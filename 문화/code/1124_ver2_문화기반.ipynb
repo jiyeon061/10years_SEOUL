{
 "cells": [
  {
   "cell_type": "code",
   "execution_count": 1,
   "id": "c18775ad",
   "metadata": {},
   "outputs": [],
   "source": [
    "import warnings\n",
    "warnings.simplefilter(action='ignore', category=FutureWarning)\n",
    "\n",
    "import numpy as np\n",
    "import pandas as pd\n",
    "import seaborn as sns\n",
    "import matplotlib.pyplot as plt\n",
    "%matplotlib inline\n",
    "\n",
    "import glob\n",
    "import os\n",
    "if os.name == 'nt':\n",
    "    font_family = \"Malgun Gothic\"\n",
    "else:\n",
    "    font_family = \"AppleGothic\"\n",
    "    \n",
    "# -값이 깨지는 문제 해결을 위해 파라미터값 설정    \n",
    "sns.set(font=font_family, rc = {\"axes.unicode_minus\" : False})"
   ]
  },
  {
   "cell_type": "code",
   "execution_count": 2,
   "id": "db44e79c",
   "metadata": {},
   "outputs": [
    {
     "data": {
      "text/plain": [
       "['공공도서관_2011_2021.xlsx',\n",
       " '도서관+현황_2011_2021.xlsx',\n",
       " '문화공간(공연장)_2011_2021.xlsx',\n",
       " '문화공간(문화보급전수시설)_2011_2021.xlsx',\n",
       " '문화공간(영화관)_2011_2021.xlsx',\n",
       " '문화공간(전시시설)_2011_2021_미술관박물관.xlsx',\n",
       " '문화공간(지역문화복지시설)_20221124091542.xlsx',\n",
       " '문화공연+및+전시회_2011_2020.xlsx',\n",
       " '문화예술_및_스포츠관람현황_시도__2011_2021.xlsx',\n",
       " '문화재(2008년+이후)_2011_2021.xlsx',\n",
       " '언론매체(2009년+이후)_2011_2020.xlsx',\n",
       " '인구+10만명당+공연횟수_2011_2020.xlsx',\n",
       " '인구_십만명당_문화기반시설수_시도_시_군_구__2011_2020.xlsx',\n",
       " '지정등록문화재현황_시도__2011_2021.xlsx',\n",
       " '한강공원+이용객+현황_2013_2021.xlsx']"
      ]
     },
     "execution_count": 2,
     "metadata": {},
     "output_type": "execute_result"
    }
   ],
   "source": [
    "os.listdir('../data/문화기반/')"
   ]
  },
  {
   "cell_type": "markdown",
   "id": "ec7c5d32",
   "metadata": {},
   "source": [
    "# 문화기반\n",
    "## 공공도서관"
   ]
  },
  {
   "cell_type": "code",
   "execution_count": 3,
   "id": "59c09d03",
   "metadata": {},
   "outputs": [],
   "source": [
    "path = '../data/문화기반/'"
   ]
  },
  {
   "cell_type": "code",
   "execution_count": 4,
   "id": "9b0fabc1",
   "metadata": {},
   "outputs": [
    {
     "name": "stderr",
     "output_type": "stream",
     "text": [
      "C:\\Users\\user\\anaconda3\\lib\\site-packages\\openpyxl\\styles\\stylesheet.py:226: UserWarning: Workbook contains no default style, apply openpyxl's default\n",
      "  warn(\"Workbook contains no default style, apply openpyxl's default\")\n"
     ]
    }
   ],
   "source": [
    "file = pd.read_excel(path + '공공도서관_2011_2021.xlsx')"
   ]
  },
  {
   "cell_type": "code",
   "execution_count": 5,
   "id": "e3dc94e2",
   "metadata": {},
   "outputs": [
    {
     "data": {
      "text/plain": [
       "Index(['자치구별(1)', '시점', '항목', '개소 (개)', '좌석수 (개)', '자료수 (권)', '자료수 (권).1',\n",
       "       '자료수 (권).2', '도서관 방문자수 (명)', '자료실 이용자수 (명)', '연간대출 책수 (권)', '직원수 (명)',\n",
       "       '직원수 (명).1', '직원수 (명).2', '예산 (백만원)'],\n",
       "      dtype='object')"
      ]
     },
     "execution_count": 5,
     "metadata": {},
     "output_type": "execute_result"
    }
   ],
   "source": [
    "file.columns"
   ]
  },
  {
   "cell_type": "code",
   "execution_count": 6,
   "id": "55eb7963",
   "metadata": {},
   "outputs": [],
   "source": [
    "file = file.astype({'시점' : str})"
   ]
  },
  {
   "cell_type": "code",
   "execution_count": 7,
   "id": "ad0c1d0b",
   "metadata": {},
   "outputs": [],
   "source": [
    "file_total = file[(file['항목'] == '계') | (file['항목'] == '항목')]"
   ]
  },
  {
   "cell_type": "code",
   "execution_count": 8,
   "id": "882125d8",
   "metadata": {},
   "outputs": [
    {
     "data": {
      "text/html": [
       "<div>\n",
       "<style scoped>\n",
       "    .dataframe tbody tr th:only-of-type {\n",
       "        vertical-align: middle;\n",
       "    }\n",
       "\n",
       "    .dataframe tbody tr th {\n",
       "        vertical-align: top;\n",
       "    }\n",
       "\n",
       "    .dataframe thead th {\n",
       "        text-align: right;\n",
       "    }\n",
       "</style>\n",
       "<table border=\"1\" class=\"dataframe\">\n",
       "  <thead>\n",
       "    <tr style=\"text-align: right;\">\n",
       "      <th></th>\n",
       "      <th>자치구별(1)</th>\n",
       "      <th>시점</th>\n",
       "      <th>항목</th>\n",
       "      <th>개소 (개)</th>\n",
       "      <th>좌석수 (개)</th>\n",
       "      <th>자료수 (권)</th>\n",
       "      <th>자료수 (권).1</th>\n",
       "      <th>자료수 (권).2</th>\n",
       "      <th>도서관 방문자수 (명)</th>\n",
       "      <th>자료실 이용자수 (명)</th>\n",
       "      <th>연간대출 책수 (권)</th>\n",
       "      <th>직원수 (명)</th>\n",
       "      <th>직원수 (명).1</th>\n",
       "      <th>직원수 (명).2</th>\n",
       "      <th>예산 (백만원)</th>\n",
       "    </tr>\n",
       "  </thead>\n",
       "  <tbody>\n",
       "    <tr>\n",
       "      <th>0</th>\n",
       "      <td>자치구별(1)</td>\n",
       "      <td>시점</td>\n",
       "      <td>항목</td>\n",
       "      <td>소계</td>\n",
       "      <td>소계</td>\n",
       "      <td>도서</td>\n",
       "      <td>비도서</td>\n",
       "      <td>연속간행물(종)</td>\n",
       "      <td>소계</td>\n",
       "      <td>소계</td>\n",
       "      <td>소계</td>\n",
       "      <td>소계</td>\n",
       "      <td>남자</td>\n",
       "      <td>여자</td>\n",
       "      <td>소계</td>\n",
       "    </tr>\n",
       "    <tr>\n",
       "      <th>1</th>\n",
       "      <td>합계</td>\n",
       "      <td>2011</td>\n",
       "      <td>계</td>\n",
       "      <td>109.0</td>\n",
       "      <td>36629.0</td>\n",
       "      <td>8910508.0</td>\n",
       "      <td>404998.0</td>\n",
       "      <td>23447.0</td>\n",
       "      <td>57095987.0</td>\n",
       "      <td>42552573.0</td>\n",
       "      <td>21517570.0</td>\n",
       "      <td>1567.0</td>\n",
       "      <td>519.0</td>\n",
       "      <td>1048.0</td>\n",
       "      <td>76070.0</td>\n",
       "    </tr>\n",
       "    <tr>\n",
       "      <th>2</th>\n",
       "      <td>합계</td>\n",
       "      <td>2012</td>\n",
       "      <td>계</td>\n",
       "      <td>116.0</td>\n",
       "      <td>38594.0</td>\n",
       "      <td>9754776.0</td>\n",
       "      <td>437061.0</td>\n",
       "      <td>24276.0</td>\n",
       "      <td>60377702.0</td>\n",
       "      <td>41676378.0</td>\n",
       "      <td>21445003.0</td>\n",
       "      <td>1866.0</td>\n",
       "      <td>620.0</td>\n",
       "      <td>1246.0</td>\n",
       "      <td>82249.0</td>\n",
       "    </tr>\n",
       "    <tr>\n",
       "      <th>3</th>\n",
       "      <td>합계</td>\n",
       "      <td>2013</td>\n",
       "      <td>계</td>\n",
       "      <td>123.0</td>\n",
       "      <td>41703.0</td>\n",
       "      <td>10693144.0</td>\n",
       "      <td>430180.0</td>\n",
       "      <td>24956.0</td>\n",
       "      <td>64286726.0</td>\n",
       "      <td>47072804.0</td>\n",
       "      <td>22206149.0</td>\n",
       "      <td>1804.0</td>\n",
       "      <td>521.0</td>\n",
       "      <td>1283.0</td>\n",
       "      <td>88070.0</td>\n",
       "    </tr>\n",
       "    <tr>\n",
       "      <th>4</th>\n",
       "      <td>합계</td>\n",
       "      <td>2014</td>\n",
       "      <td>계</td>\n",
       "      <td>132.0</td>\n",
       "      <td>42194.0</td>\n",
       "      <td>11213319.0</td>\n",
       "      <td>655378.0</td>\n",
       "      <td>24833.0</td>\n",
       "      <td>71043565.0</td>\n",
       "      <td>46143554.0</td>\n",
       "      <td>27006534.0</td>\n",
       "      <td>2082.0</td>\n",
       "      <td>648.0</td>\n",
       "      <td>1434.0</td>\n",
       "      <td>87555.0</td>\n",
       "    </tr>\n",
       "    <tr>\n",
       "      <th>8</th>\n",
       "      <td>합계</td>\n",
       "      <td>2015</td>\n",
       "      <td>계</td>\n",
       "      <td>146.0</td>\n",
       "      <td>43227.0</td>\n",
       "      <td>11929816.0</td>\n",
       "      <td>498842.0</td>\n",
       "      <td>24967.0</td>\n",
       "      <td>71050641.0</td>\n",
       "      <td>48719001.0</td>\n",
       "      <td>24411227.0</td>\n",
       "      <td>2192.0</td>\n",
       "      <td>675.0</td>\n",
       "      <td>1517.0</td>\n",
       "      <td>111811.0</td>\n",
       "    </tr>\n",
       "    <tr>\n",
       "      <th>12</th>\n",
       "      <td>합계</td>\n",
       "      <td>2016</td>\n",
       "      <td>계</td>\n",
       "      <td>147.0</td>\n",
       "      <td>42926.0</td>\n",
       "      <td>12583120.0</td>\n",
       "      <td>515455.0</td>\n",
       "      <td>24633.0</td>\n",
       "      <td>68247780.0</td>\n",
       "      <td>50698340.0</td>\n",
       "      <td>23033500.0</td>\n",
       "      <td>2281.0</td>\n",
       "      <td>663.0</td>\n",
       "      <td>1618.0</td>\n",
       "      <td>125674.0</td>\n",
       "    </tr>\n",
       "    <tr>\n",
       "      <th>16</th>\n",
       "      <td>합계</td>\n",
       "      <td>2017</td>\n",
       "      <td>계</td>\n",
       "      <td>160.0</td>\n",
       "      <td>45057.0</td>\n",
       "      <td>13484498.0</td>\n",
       "      <td>550179.0</td>\n",
       "      <td>25734.0</td>\n",
       "      <td>64248566.0</td>\n",
       "      <td>48554365.0</td>\n",
       "      <td>22662045.0</td>\n",
       "      <td>2449.0</td>\n",
       "      <td>697.0</td>\n",
       "      <td>1752.0</td>\n",
       "      <td>163396.0</td>\n",
       "    </tr>\n",
       "    <tr>\n",
       "      <th>20</th>\n",
       "      <td>합계</td>\n",
       "      <td>2018</td>\n",
       "      <td>계</td>\n",
       "      <td>173.0</td>\n",
       "      <td>45536.0</td>\n",
       "      <td>14275332.0</td>\n",
       "      <td>570524.0</td>\n",
       "      <td>24867.0</td>\n",
       "      <td>66955435.0</td>\n",
       "      <td>51070334.0</td>\n",
       "      <td>23124976.0</td>\n",
       "      <td>2600.0</td>\n",
       "      <td>734.0</td>\n",
       "      <td>1866.0</td>\n",
       "      <td>150596.0</td>\n",
       "    </tr>\n",
       "    <tr>\n",
       "      <th>24</th>\n",
       "      <td>합계</td>\n",
       "      <td>2019</td>\n",
       "      <td>계</td>\n",
       "      <td>180.0</td>\n",
       "      <td>46253.0</td>\n",
       "      <td>14994954.0</td>\n",
       "      <td>571760.0</td>\n",
       "      <td>23807.0</td>\n",
       "      <td>66928125.0</td>\n",
       "      <td>49968428.0</td>\n",
       "      <td>24193256.0</td>\n",
       "      <td>2779.0</td>\n",
       "      <td>772.0</td>\n",
       "      <td>2007.0</td>\n",
       "      <td>161401.0</td>\n",
       "    </tr>\n",
       "    <tr>\n",
       "      <th>28</th>\n",
       "      <td>합계</td>\n",
       "      <td>2020</td>\n",
       "      <td>계</td>\n",
       "      <td>188.0</td>\n",
       "      <td>45939.0</td>\n",
       "      <td>15396867.0</td>\n",
       "      <td>577392.0</td>\n",
       "      <td>23059.0</td>\n",
       "      <td>19927153.0</td>\n",
       "      <td>0.0</td>\n",
       "      <td>48995263.0</td>\n",
       "      <td>2944.0</td>\n",
       "      <td>796.0</td>\n",
       "      <td>2148.0</td>\n",
       "      <td>170170.0</td>\n",
       "    </tr>\n",
       "    <tr>\n",
       "      <th>32</th>\n",
       "      <td>합계</td>\n",
       "      <td>2021</td>\n",
       "      <td>계</td>\n",
       "      <td>195.0</td>\n",
       "      <td>46052.0</td>\n",
       "      <td>16014395.0</td>\n",
       "      <td>589475.0</td>\n",
       "      <td>23343.0</td>\n",
       "      <td>31288730.0</td>\n",
       "      <td>-</td>\n",
       "      <td>24443653.0</td>\n",
       "      <td>2961.0</td>\n",
       "      <td>869.0</td>\n",
       "      <td>2092.0</td>\n",
       "      <td>186063.0</td>\n",
       "    </tr>\n",
       "  </tbody>\n",
       "</table>\n",
       "</div>"
      ],
      "text/plain": [
       "    자치구별(1)    시점  항목 개소 (개)  좌석수 (개)     자료수 (권) 자료수 (권).1 자료수 (권).2  \\\n",
       "0   자치구별(1)    시점  항목     소계       소계          도서       비도서  연속간행물(종)   \n",
       "1        합계  2011   계  109.0  36629.0   8910508.0  404998.0   23447.0   \n",
       "2        합계  2012   계  116.0  38594.0   9754776.0  437061.0   24276.0   \n",
       "3        합계  2013   계  123.0  41703.0  10693144.0  430180.0   24956.0   \n",
       "4        합계  2014   계  132.0  42194.0  11213319.0  655378.0   24833.0   \n",
       "8        합계  2015   계  146.0  43227.0  11929816.0  498842.0   24967.0   \n",
       "12       합계  2016   계  147.0  42926.0  12583120.0  515455.0   24633.0   \n",
       "16       합계  2017   계  160.0  45057.0  13484498.0  550179.0   25734.0   \n",
       "20       합계  2018   계  173.0  45536.0  14275332.0  570524.0   24867.0   \n",
       "24       합계  2019   계  180.0  46253.0  14994954.0  571760.0   23807.0   \n",
       "28       합계  2020   계  188.0  45939.0  15396867.0  577392.0   23059.0   \n",
       "32       합계  2021   계  195.0  46052.0  16014395.0  589475.0   23343.0   \n",
       "\n",
       "   도서관 방문자수 (명) 자료실 이용자수 (명) 연간대출 책수 (권) 직원수 (명) 직원수 (명).1 직원수 (명).2  예산 (백만원)  \n",
       "0            소계           소계          소계      소계        남자        여자        소계  \n",
       "1    57095987.0   42552573.0  21517570.0  1567.0     519.0    1048.0   76070.0  \n",
       "2    60377702.0   41676378.0  21445003.0  1866.0     620.0    1246.0   82249.0  \n",
       "3    64286726.0   47072804.0  22206149.0  1804.0     521.0    1283.0   88070.0  \n",
       "4    71043565.0   46143554.0  27006534.0  2082.0     648.0    1434.0   87555.0  \n",
       "8    71050641.0   48719001.0  24411227.0  2192.0     675.0    1517.0  111811.0  \n",
       "12   68247780.0   50698340.0  23033500.0  2281.0     663.0    1618.0  125674.0  \n",
       "16   64248566.0   48554365.0  22662045.0  2449.0     697.0    1752.0  163396.0  \n",
       "20   66955435.0   51070334.0  23124976.0  2600.0     734.0    1866.0  150596.0  \n",
       "24   66928125.0   49968428.0  24193256.0  2779.0     772.0    2007.0  161401.0  \n",
       "28   19927153.0          0.0  48995263.0  2944.0     796.0    2148.0  170170.0  \n",
       "32   31288730.0            -  24443653.0  2961.0     869.0    2092.0  186063.0  "
      ]
     },
     "execution_count": 8,
     "metadata": {},
     "output_type": "execute_result"
    }
   ],
   "source": [
    "file_total\n",
    "\n",
    "# 개소(개) \n",
    "\n",
    "# 자료수 (권) (도서)\n",
    "# 자료수 (권).1 (비도서)\n",
    "# 자료수 (권).2 (연속간행물(종))\n",
    "#"
   ]
  },
  {
   "cell_type": "code",
   "execution_count": 10,
   "id": "b68b1e81",
   "metadata": {},
   "outputs": [
    {
     "data": {
      "image/png": "[encoded data removed]",
      "text/plain": [
       "<Figure size 720x432 with 1 Axes>"
      ]
     },
     "metadata": {},
     "output_type": "display_data"
    }
   ],
   "source": [
    "# file.info()\n",
    "fig, ax = plt.subplots(figsize = (10,6))\n",
    "\n",
    "year = file_total.loc[1:28, '시점']\n",
    "\n",
    "ax.set_facecolor('white')\n",
    "\n",
    "ax = sns.barplot(x = year, y = file_total.loc[1:28, '개소 (개)'], color = '#b6cec7')\n",
    "for i, v in enumerate(file_total.loc[1:28, '개소 (개)']):\n",
    "    plt.text(i, v, format(int(v), ',') + '개', ha='center')\n",
    "\n",
    "ax.set_ylabel('공공도서관 수', fontsize = 12)\n",
    "ax.set_xlabel('연도', fontsize = 12)\n",
    "ax.set_title('서울특별시 공공도서관 수', fontsize = 16)\n",
    "plt.show()"
   ]
  },
  {
   "cell_type": "code",
   "execution_count": 14,
   "id": "edb89756",
   "metadata": {},
   "outputs": [
    {
     "name": "stderr",
     "output_type": "stream",
     "text": [
      "C:\\Users\\user\\AppData\\Local\\Temp\\ipykernel_13316\\3713840923.py:21: UserWarning: FixedFormatter should only be used together with FixedLocator\n",
      "  ax.set_yticklabels([format(int(val), ',') for val in w])\n"
     ]
    },
    {
     "data": {
      "image/png": "[encoded data removed]",
      "text/plain": [
       "<Figure size 720x432 with 1 Axes>"
      ]
     },
     "metadata": {},
     "output_type": "display_data"
    }
   ],
   "source": [
    "fig, ax = plt.subplots(figsize = (10,6))\n",
    "\n",
    "year = file_total.loc[1:28, '시점']\n",
    "\n",
    "ax.set_facecolor('white')\n",
    "\n",
    "ax = sns.lineplot(x = year, y = file_total.loc[1:28, '자료수 (권)'], color = '#20639b', label = '도서', marker= 'o') # 도서\n",
    "for i, v in enumerate(file_total.loc[1:28, '자료수 (권)']):\n",
    "    plt.text(i, v+300000, format(int(v), ',') + '권', ha='center')\n",
    "    \n",
    "ax = sns.lineplot(x = year, y = file_total.loc[1:28, '자료수 (권).1'], color = '#3caea3', label = '비도서', marker= 'o') # 비도서\n",
    "for i, v in enumerate(file_total.loc[1:28, '자료수 (권).1']):\n",
    "    plt.text(i, v+300000, format(int(v), ',')+ '권' , ha='center')\n",
    "    \n",
    "ax = sns.lineplot(x = year, y = file_total.loc[1:28, '자료수 (권).2'], color = '#f6d55c', label = '연속간행물', marker= 'o') # 연속간행물\n",
    "for i, v in enumerate(file_total.loc[1:28, '자료수 (권).2']):\n",
    "    plt.text(i, v-500000, format(int(v), ',')+ '권' , ha='center')\n",
    "\n",
    "\n",
    "w = ax.get_yticks()\n",
    "ax.set_yticklabels([format(int(val), ',') for val in w])\n",
    "    \n",
    "ax.set_ylabel('자료수', fontsize = 12)\n",
    "ax.set_xlabel('연도', fontsize = 12)\n",
    "ax.set_title('서울특별시 자료별 권 수', fontsize = 16)\n",
    "plt.show()"
   ]
  },
  {
   "cell_type": "markdown",
   "id": "741c0469",
   "metadata": {},
   "source": [
    "## 도서관 현황"
   ]
  },
  {
   "cell_type": "code",
   "execution_count": 15,
   "id": "5e1cb8d3",
   "metadata": {},
   "outputs": [
    {
     "name": "stderr",
     "output_type": "stream",
     "text": [
      "C:\\Users\\user\\anaconda3\\lib\\site-packages\\openpyxl\\styles\\stylesheet.py:226: UserWarning: Workbook contains no default style, apply openpyxl's default\n",
      "  warn(\"Workbook contains no default style, apply openpyxl's default\")\n"
     ]
    }
   ],
   "source": [
    "file = pd.read_excel(path + '도서관+현황_2011_2021.xlsx')"
   ]
  },
  {
   "cell_type": "code",
   "execution_count": 16,
   "id": "b7465a15",
   "metadata": {},
   "outputs": [],
   "source": [
    "file.columns = file.loc[0, :]"
   ]
  },
  {
   "cell_type": "code",
   "execution_count": 17,
   "id": "9b6ce870",
   "metadata": {},
   "outputs": [
    {
     "data": {
      "text/html": [
       "<div>\n",
       "<style scoped>\n",
       "    .dataframe tbody tr th:only-of-type {\n",
       "        vertical-align: middle;\n",
       "    }\n",
       "\n",
       "    .dataframe tbody tr th {\n",
       "        vertical-align: top;\n",
       "    }\n",
       "\n",
       "    .dataframe thead th {\n",
       "        text-align: right;\n",
       "    }\n",
       "</style>\n",
       "<table border=\"1\" class=\"dataframe\">\n",
       "  <thead>\n",
       "    <tr style=\"text-align: right;\">\n",
       "      <th></th>\n",
       "      <th>자치구별(1)</th>\n",
       "      <th>시점</th>\n",
       "      <th>국립도서관</th>\n",
       "      <th>공공도서관</th>\n",
       "      <th>대학도서관</th>\n",
       "      <th>전문도서관</th>\n",
       "    </tr>\n",
       "  </thead>\n",
       "  <tbody>\n",
       "    <tr>\n",
       "      <th>0</th>\n",
       "      <td>합계</td>\n",
       "      <td>2011</td>\n",
       "      <td>3.0</td>\n",
       "      <td>109.0</td>\n",
       "      <td>85.0</td>\n",
       "      <td>275.0</td>\n",
       "    </tr>\n",
       "    <tr>\n",
       "      <th>1</th>\n",
       "      <td>합계</td>\n",
       "      <td>2012</td>\n",
       "      <td>3.0</td>\n",
       "      <td>116.0</td>\n",
       "      <td>85.0</td>\n",
       "      <td>275.0</td>\n",
       "    </tr>\n",
       "    <tr>\n",
       "      <th>2</th>\n",
       "      <td>합계</td>\n",
       "      <td>2013</td>\n",
       "      <td>3.0</td>\n",
       "      <td>123.0</td>\n",
       "      <td>88.0</td>\n",
       "      <td>274.0</td>\n",
       "    </tr>\n",
       "    <tr>\n",
       "      <th>3</th>\n",
       "      <td>합계</td>\n",
       "      <td>2014</td>\n",
       "      <td>3.0</td>\n",
       "      <td>132.0</td>\n",
       "      <td>88.0</td>\n",
       "      <td>268.0</td>\n",
       "    </tr>\n",
       "    <tr>\n",
       "      <th>4</th>\n",
       "      <td>합계</td>\n",
       "      <td>2015</td>\n",
       "      <td>3.0</td>\n",
       "      <td>146.0</td>\n",
       "      <td>88.0</td>\n",
       "      <td>262.0</td>\n",
       "    </tr>\n",
       "    <tr>\n",
       "      <th>5</th>\n",
       "      <td>합계</td>\n",
       "      <td>2016</td>\n",
       "      <td>3.0</td>\n",
       "      <td>147.0</td>\n",
       "      <td>89.0</td>\n",
       "      <td>264.0</td>\n",
       "    </tr>\n",
       "    <tr>\n",
       "      <th>6</th>\n",
       "      <td>합계</td>\n",
       "      <td>2017</td>\n",
       "      <td>3.0</td>\n",
       "      <td>160.0</td>\n",
       "      <td>88.0</td>\n",
       "      <td>261.0</td>\n",
       "    </tr>\n",
       "    <tr>\n",
       "      <th>7</th>\n",
       "      <td>합계</td>\n",
       "      <td>2018</td>\n",
       "      <td>3.0</td>\n",
       "      <td>173.0</td>\n",
       "      <td>88.0</td>\n",
       "      <td>261.0</td>\n",
       "    </tr>\n",
       "    <tr>\n",
       "      <th>8</th>\n",
       "      <td>합계</td>\n",
       "      <td>2019</td>\n",
       "      <td>3.0</td>\n",
       "      <td>180.0</td>\n",
       "      <td>88.0</td>\n",
       "      <td>258.0</td>\n",
       "    </tr>\n",
       "    <tr>\n",
       "      <th>9</th>\n",
       "      <td>합계</td>\n",
       "      <td>2020</td>\n",
       "      <td>3.0</td>\n",
       "      <td>188.0</td>\n",
       "      <td>88.0</td>\n",
       "      <td>263.0</td>\n",
       "    </tr>\n",
       "    <tr>\n",
       "      <th>10</th>\n",
       "      <td>합계</td>\n",
       "      <td>2021</td>\n",
       "      <td>3.0</td>\n",
       "      <td>195.0</td>\n",
       "      <td>88.0</td>\n",
       "      <td>251.0</td>\n",
       "    </tr>\n",
       "  </tbody>\n",
       "</table>\n",
       "</div>"
      ],
      "text/plain": [
       "0  자치구별(1)    시점 국립도서관  공공도서관 대학도서관  전문도서관\n",
       "0       합계  2011   3.0  109.0  85.0  275.0\n",
       "1       합계  2012   3.0  116.0  85.0  275.0\n",
       "2       합계  2013   3.0  123.0  88.0  274.0\n",
       "3       합계  2014   3.0  132.0  88.0  268.0\n",
       "4       합계  2015   3.0  146.0  88.0  262.0\n",
       "5       합계  2016   3.0  147.0  89.0  264.0\n",
       "6       합계  2017   3.0  160.0  88.0  261.0\n",
       "7       합계  2018   3.0  173.0  88.0  261.0\n",
       "8       합계  2019   3.0  180.0  88.0  258.0\n",
       "9       합계  2020   3.0  188.0  88.0  263.0\n",
       "10      합계  2021   3.0  195.0  88.0  251.0"
      ]
     },
     "execution_count": 17,
     "metadata": {},
     "output_type": "execute_result"
    }
   ],
   "source": [
    "file.drop(0, axis = 0, inplace=True)\n",
    "file.reset_index(drop=True, inplace=True)\n",
    "file"
   ]
  },
  {
   "cell_type": "code",
   "execution_count": 18,
   "id": "e443b973",
   "metadata": {},
   "outputs": [],
   "source": [
    "library = list(file.columns[2::])\n",
    "library\n",
    "\n",
    "year = file.loc[:10, '시점']"
   ]
  },
  {
   "cell_type": "code",
   "execution_count": 20,
   "id": "d409f3a7",
   "metadata": {},
   "outputs": [
    {
     "data": {
      "image/png": "[encoded data removed]",
      "text/plain": [
       "<Figure size 720x432 with 1 Axes>"
      ]
     },
     "metadata": {},
     "output_type": "display_data"
    }
   ],
   "source": [
    "fig, ax = plt.subplots(figsize = (10,6))\n",
    "\n",
    "ax.set_facecolor('white')\n",
    "\n",
    "for l in library:\n",
    "    ax = sns.lineplot(x = year, y = file.loc[:, l], label =l)\n",
    "    for i, v in enumerate(file.loc[:, l]):\n",
    "        plt.text(i,v,str(int(v)) + '개')\n",
    "\n",
    "ax.legend()\n",
    "ax.set_title('도서관 현황', fontsize = 16)\n",
    "plt.show()"
   ]
  },
  {
   "cell_type": "markdown",
   "id": "7d2d8bf0",
   "metadata": {},
   "source": [
    "## 문화공간\n",
    "### 공연장\n",
    " '문화공간(공연장)_2011_2021.xlsx',\n",
    " '문화공간(문화보급전수시설)_2011_2021.xlsx',\n",
    " '문화공간(영화관)_2011_2021.xlsx',\n",
    " '문화공간(전시시설)_2011_2021_미술관박물관.xlsx',\n",
    " '문화공간(지역문화복지시설)_20221124091542.xlsx'"
   ]
  },
  {
   "cell_type": "code",
   "execution_count": 22,
   "id": "72b42d66",
   "metadata": {},
   "outputs": [
    {
     "name": "stderr",
     "output_type": "stream",
     "text": [
      "C:\\Users\\user\\anaconda3\\lib\\site-packages\\openpyxl\\styles\\stylesheet.py:226: UserWarning: Workbook contains no default style, apply openpyxl's default\n",
      "  warn(\"Workbook contains no default style, apply openpyxl's default\")\n"
     ]
    }
   ],
   "source": [
    "file = pd.read_excel(path + '문화공간(공연장)_2011_2021.xlsx')\n",
    "file = file.replace({'-' : np.nan})\n",
    "file.columns = file.loc[0, :]\n",
    "file.drop(0, axis = 0, inplace=True)\n",
    "file.reset_index(drop=True, inplace =True)"
   ]
  },
  {
   "cell_type": "code",
   "execution_count": 23,
   "id": "97883b69",
   "metadata": {},
   "outputs": [
    {
     "data": {
      "text/html": [
       "<div>\n",
       "<style scoped>\n",
       "    .dataframe tbody tr th:only-of-type {\n",
       "        vertical-align: middle;\n",
       "    }\n",
       "\n",
       "    .dataframe tbody tr th {\n",
       "        vertical-align: top;\n",
       "    }\n",
       "\n",
       "    .dataframe thead th {\n",
       "        text-align: right;\n",
       "    }\n",
       "</style>\n",
       "<table border=\"1\" class=\"dataframe\">\n",
       "  <thead>\n",
       "    <tr style=\"text-align: right;\">\n",
       "      <th></th>\n",
       "      <th>시점</th>\n",
       "      <th>공공공연장</th>\n",
       "      <th>민간공연장</th>\n",
       "      <th>대공연장(1000석 이상)</th>\n",
       "      <th>일반공연장(300~999석)</th>\n",
       "      <th>소공연장(300석 미만)</th>\n",
       "    </tr>\n",
       "  </thead>\n",
       "  <tbody>\n",
       "    <tr>\n",
       "      <th>0</th>\n",
       "      <td>2011</td>\n",
       "      <td>87.0</td>\n",
       "      <td>170.0</td>\n",
       "      <td>18.0</td>\n",
       "      <td>93.0</td>\n",
       "      <td>146.0</td>\n",
       "    </tr>\n",
       "    <tr>\n",
       "      <th>1</th>\n",
       "      <td>2012</td>\n",
       "      <td>87.0</td>\n",
       "      <td>198.0</td>\n",
       "      <td>19.0</td>\n",
       "      <td>101.0</td>\n",
       "      <td>165.0</td>\n",
       "    </tr>\n",
       "    <tr>\n",
       "      <th>2</th>\n",
       "      <td>2013</td>\n",
       "      <td>88.0</td>\n",
       "      <td>216.0</td>\n",
       "      <td>19.0</td>\n",
       "      <td>104.0</td>\n",
       "      <td>181.0</td>\n",
       "    </tr>\n",
       "    <tr>\n",
       "      <th>3</th>\n",
       "      <td>2014</td>\n",
       "      <td>NaN</td>\n",
       "      <td>NaN</td>\n",
       "      <td>19.0</td>\n",
       "      <td>109.0</td>\n",
       "      <td>216.0</td>\n",
       "    </tr>\n",
       "    <tr>\n",
       "      <th>4</th>\n",
       "      <td>2015</td>\n",
       "      <td>NaN</td>\n",
       "      <td>NaN</td>\n",
       "      <td>18.0</td>\n",
       "      <td>112.0</td>\n",
       "      <td>251.0</td>\n",
       "    </tr>\n",
       "    <tr>\n",
       "      <th>5</th>\n",
       "      <td>2016</td>\n",
       "      <td>86.0</td>\n",
       "      <td>303.0</td>\n",
       "      <td>22.0</td>\n",
       "      <td>111.0</td>\n",
       "      <td>256.0</td>\n",
       "    </tr>\n",
       "    <tr>\n",
       "      <th>6</th>\n",
       "      <td>2017</td>\n",
       "      <td>86.0</td>\n",
       "      <td>311.0</td>\n",
       "      <td>21.0</td>\n",
       "      <td>112.0</td>\n",
       "      <td>264.0</td>\n",
       "    </tr>\n",
       "    <tr>\n",
       "      <th>7</th>\n",
       "      <td>2018</td>\n",
       "      <td>90.0</td>\n",
       "      <td>318.0</td>\n",
       "      <td>20.0</td>\n",
       "      <td>108.0</td>\n",
       "      <td>280.0</td>\n",
       "    </tr>\n",
       "    <tr>\n",
       "      <th>8</th>\n",
       "      <td>2019</td>\n",
       "      <td>95.0</td>\n",
       "      <td>317.0</td>\n",
       "      <td>19.0</td>\n",
       "      <td>113.0</td>\n",
       "      <td>280.0</td>\n",
       "    </tr>\n",
       "    <tr>\n",
       "      <th>9</th>\n",
       "      <td>2020</td>\n",
       "      <td>103.0</td>\n",
       "      <td>314.0</td>\n",
       "      <td>18.0</td>\n",
       "      <td>101.0</td>\n",
       "      <td>298.0</td>\n",
       "    </tr>\n",
       "    <tr>\n",
       "      <th>10</th>\n",
       "      <td>2021</td>\n",
       "      <td>98.0</td>\n",
       "      <td>323.0</td>\n",
       "      <td>17.0</td>\n",
       "      <td>107.0</td>\n",
       "      <td>297.0</td>\n",
       "    </tr>\n",
       "  </tbody>\n",
       "</table>\n",
       "</div>"
      ],
      "text/plain": [
       "0     시점  공공공연장  민간공연장 대공연장(1000석 이상) 일반공연장(300~999석) 소공연장(300석 미만)\n",
       "0   2011   87.0  170.0           18.0            93.0         146.0\n",
       "1   2012   87.0  198.0           19.0           101.0         165.0\n",
       "2   2013   88.0  216.0           19.0           104.0         181.0\n",
       "3   2014    NaN    NaN           19.0           109.0         216.0\n",
       "4   2015    NaN    NaN           18.0           112.0         251.0\n",
       "5   2016   86.0  303.0           22.0           111.0         256.0\n",
       "6   2017   86.0  311.0           21.0           112.0         264.0\n",
       "7   2018   90.0  318.0           20.0           108.0         280.0\n",
       "8   2019   95.0  317.0           19.0           113.0         280.0\n",
       "9   2020  103.0  314.0           18.0           101.0         298.0\n",
       "10  2021   98.0  323.0           17.0           107.0         297.0"
      ]
     },
     "execution_count": 23,
     "metadata": {},
     "output_type": "execute_result"
    }
   ],
   "source": [
    "file\n",
    "year = file.loc[:, '시점']\n",
    "\n",
    "file_ = file.iloc[:, [1,3,4,5,6,7]]\n",
    "file_"
   ]
  },
  {
   "cell_type": "code",
   "execution_count": 25,
   "id": "3f36f4b0",
   "metadata": {
    "scrolled": true
   },
   "outputs": [
    {
     "data": {
      "text/plain": [
       "Text(0.5, 1.0, '문화공연 중 공연장')"
      ]
     },
     "execution_count": 25,
     "metadata": {},
     "output_type": "execute_result"
    },
    {
     "data": {
      "image/png": "[encoded data removed]",
      "text/plain": [
       "<Figure size 720x432 with 1 Axes>"
      ]
     },
     "metadata": {},
     "output_type": "display_data"
    }
   ],
   "source": [
    "# fig, ax = plt.subplots(figsize = (8,6))\n",
    "\n",
    "ax = file_.plot.bar(align='center', stacked=True, figsize = (10,6))\n",
    "ax.set_facecolor('white')\n",
    "ax.set_xticklabels(year, rotation = 30)\n",
    "\n",
    "legend = plt.legend(loc='center',\n",
    "       frameon=False,\n",
    "       bbox_to_anchor=(0., 1.02, 1., -0.11), \n",
    "       mode='expand', \n",
    "       ncol=5, \n",
    "       borderaxespad=-.46,\n",
    "       prop={'size': 8, 'family':font_family})\n",
    "\n",
    "for p in ax.patches:\n",
    "    width, height = p.get_width(), p.get_height()\n",
    "    x, y = p.get_xy() \n",
    "    if height !=0:\n",
    "        ax.text(x+width/2, \n",
    "                y+height/2, \n",
    "                '{:.0f}'.format(height), \n",
    "                horizontalalignment='center', \n",
    "                verticalalignment='center',\n",
    "                color='white',\n",
    "                fontsize=10)\n",
    "\n",
    "plt.title('문화공연 중 공연장', fontsize =15, pad =10)\n",
    "# plt.annotate(\"2014, 2015년 \\n공공공연장 및 민간공연장 NULL값 \",(-0.5,780))"
   ]
  },
  {
   "cell_type": "markdown",
   "id": "7c9dce90",
   "metadata": {},
   "source": [
    "### 영화관"
   ]
  },
  {
   "cell_type": "code",
   "execution_count": 26,
   "id": "f6f1cd8c",
   "metadata": {},
   "outputs": [
    {
     "name": "stderr",
     "output_type": "stream",
     "text": [
      "C:\\Users\\user\\anaconda3\\lib\\site-packages\\openpyxl\\styles\\stylesheet.py:226: UserWarning: Workbook contains no default style, apply openpyxl's default\n",
      "  warn(\"Workbook contains no default style, apply openpyxl's default\")\n"
     ]
    }
   ],
   "source": [
    "file = pd.read_excel(path + '문화공간(영화관)_2011_2021.xlsx')"
   ]
  },
  {
   "cell_type": "code",
   "execution_count": 27,
   "id": "8f925776",
   "metadata": {},
   "outputs": [],
   "source": [
    "file = file.astype({'시점' : str})"
   ]
  },
  {
   "cell_type": "code",
   "execution_count": 28,
   "id": "8b8f50e4",
   "metadata": {},
   "outputs": [
    {
     "data": {
      "image/png": "[encoded data removed]",
      "text/plain": [
       "<Figure size 720x432 with 1 Axes>"
      ]
     },
     "metadata": {},
     "output_type": "display_data"
    }
   ],
   "source": [
    "fig ,ax = plt.subplots(figsize = (10,6))\n",
    "\n",
    "ax.set_facecolor('white')\n",
    "ax = sns.lineplot(x = '시점', y='개소수 (개소)', data=file, marker = 'o', markersize = 7)\n",
    "\n",
    "for i, v in enumerate(file['개소수 (개소)']):\n",
    "    plt.text(i, v+1, str(int(v)) + '개', ha= 'center')\n",
    "    \n",
    "plt.title('문화공연 중 영화관', fontsize =13, pad =15)\n",
    "plt.show()"
   ]
  },
  {
   "cell_type": "markdown",
   "id": "7c62e637",
   "metadata": {},
   "source": [
    "### 전시시설 (미술관, 박물관)"
   ]
  },
  {
   "cell_type": "code",
   "execution_count": 29,
   "id": "24559107",
   "metadata": {},
   "outputs": [
    {
     "name": "stderr",
     "output_type": "stream",
     "text": [
      "C:\\Users\\user\\anaconda3\\lib\\site-packages\\openpyxl\\styles\\stylesheet.py:226: UserWarning: Workbook contains no default style, apply openpyxl's default\n",
      "  warn(\"Workbook contains no default style, apply openpyxl's default\")\n"
     ]
    }
   ],
   "source": [
    "file = pd.read_excel(path + '문화공간(전시시설)_2011_2021_미술관박물관.xlsx')"
   ]
  },
  {
   "cell_type": "code",
   "execution_count": 30,
   "id": "47d4c8fe",
   "metadata": {},
   "outputs": [],
   "source": [
    "file = file.astype({'시점' : str})"
   ]
  },
  {
   "cell_type": "code",
   "execution_count": 31,
   "id": "55a4b079",
   "metadata": {},
   "outputs": [
    {
     "data": {
      "text/plain": [
       "Text(0.5, 1.0, '문화공연 중 공연장')"
      ]
     },
     "execution_count": 31,
     "metadata": {},
     "output_type": "execute_result"
    },
    {
     "data": {
      "image/png": "[encoded data removed]",
      "text/plain": [
       "<Figure size 720x432 with 1 Axes>"
      ]
     },
     "metadata": {},
     "output_type": "display_data"
    }
   ],
   "source": [
    "ax = file.plot.bar(align='center', stacked=True, figsize = (10,6))\n",
    "ax.set_facecolor('white')\n",
    "ax.set_xticklabels(file['시점'], rotation = 30)\n",
    "\n",
    "legend = plt.legend(loc='center',\n",
    "       frameon=False,\n",
    "       bbox_to_anchor=(0., 1.02, 1., -0.11), \n",
    "#        mode='expand', \n",
    "       ncol=5, \n",
    "       borderaxespad=-.46,\n",
    "       prop={'size': 8, 'family':font_family})\n",
    "\n",
    "for p in ax.patches:\n",
    "    width, height = p.get_width(), p.get_height()\n",
    "    x, y = p.get_xy() \n",
    "    ax.text(x+width/2, \n",
    "            y+height/2, \n",
    "            '{:.0f}'.format(height), \n",
    "            horizontalalignment='center', \n",
    "            verticalalignment='center',\n",
    "            color='white',\n",
    "            fontsize=10)\n",
    "\n",
    "plt.title('문화공연 중 공연장', fontsize =15, pad =10)"
   ]
  },
  {
   "cell_type": "markdown",
   "id": "a4cc0087",
   "metadata": {},
   "source": [
    "### 문화공간 - 문화보급전수시설"
   ]
  },
  {
   "cell_type": "code",
   "execution_count": 26,
   "id": "93bbd6c5",
   "metadata": {},
   "outputs": [
    {
     "name": "stderr",
     "output_type": "stream",
     "text": [
      "C:\\Users\\user\\anaconda3\\lib\\site-packages\\openpyxl\\styles\\stylesheet.py:226: UserWarning: Workbook contains no default style, apply openpyxl's default\n",
      "  warn(\"Workbook contains no default style, apply openpyxl's default\")\n"
     ]
    }
   ],
   "source": [
    "file = pd.read_excel(path + '문화공간(문화보급전수시설)_2011_2021.xlsx')"
   ]
  },
  {
   "cell_type": "code",
   "execution_count": 27,
   "id": "2638cd39",
   "metadata": {},
   "outputs": [
    {
     "data": {
      "text/html": [
       "<div>\n",
       "<style scoped>\n",
       "    .dataframe tbody tr th:only-of-type {\n",
       "        vertical-align: middle;\n",
       "    }\n",
       "\n",
       "    .dataframe tbody tr th {\n",
       "        vertical-align: top;\n",
       "    }\n",
       "\n",
       "    .dataframe thead th {\n",
       "        text-align: right;\n",
       "    }\n",
       "</style>\n",
       "<table border=\"1\" class=\"dataframe\">\n",
       "  <thead>\n",
       "    <tr style=\"text-align: right;\">\n",
       "      <th></th>\n",
       "      <th>자치구별(1)</th>\n",
       "      <th>시점</th>\n",
       "      <th>문화원</th>\n",
       "      <th>국악원</th>\n",
       "      <th>전수회관</th>\n",
       "    </tr>\n",
       "  </thead>\n",
       "  <tbody>\n",
       "    <tr>\n",
       "      <th>0</th>\n",
       "      <td>합계</td>\n",
       "      <td>2011</td>\n",
       "      <td>25.0</td>\n",
       "      <td>2.0</td>\n",
       "      <td>4.0</td>\n",
       "    </tr>\n",
       "    <tr>\n",
       "      <th>1</th>\n",
       "      <td>합계</td>\n",
       "      <td>2012</td>\n",
       "      <td>25.0</td>\n",
       "      <td>2.0</td>\n",
       "      <td>4.0</td>\n",
       "    </tr>\n",
       "    <tr>\n",
       "      <th>2</th>\n",
       "      <td>합계</td>\n",
       "      <td>2013</td>\n",
       "      <td>25.0</td>\n",
       "      <td>2.0</td>\n",
       "      <td>4.0</td>\n",
       "    </tr>\n",
       "    <tr>\n",
       "      <th>3</th>\n",
       "      <td>합계</td>\n",
       "      <td>2014</td>\n",
       "      <td>25.0</td>\n",
       "      <td>2.0</td>\n",
       "      <td>4.0</td>\n",
       "    </tr>\n",
       "    <tr>\n",
       "      <th>4</th>\n",
       "      <td>합계</td>\n",
       "      <td>2015</td>\n",
       "      <td>25.0</td>\n",
       "      <td>2.0</td>\n",
       "      <td>4.0</td>\n",
       "    </tr>\n",
       "    <tr>\n",
       "      <th>5</th>\n",
       "      <td>합계</td>\n",
       "      <td>2016</td>\n",
       "      <td>25.0</td>\n",
       "      <td>3.0</td>\n",
       "      <td>4.0</td>\n",
       "    </tr>\n",
       "    <tr>\n",
       "      <th>6</th>\n",
       "      <td>합계</td>\n",
       "      <td>2017</td>\n",
       "      <td>25.0</td>\n",
       "      <td>3.0</td>\n",
       "      <td>4.0</td>\n",
       "    </tr>\n",
       "    <tr>\n",
       "      <th>7</th>\n",
       "      <td>합계</td>\n",
       "      <td>2018</td>\n",
       "      <td>25.0</td>\n",
       "      <td>3.0</td>\n",
       "      <td>4.0</td>\n",
       "    </tr>\n",
       "    <tr>\n",
       "      <th>8</th>\n",
       "      <td>합계</td>\n",
       "      <td>2019</td>\n",
       "      <td>25.0</td>\n",
       "      <td>3.0</td>\n",
       "      <td>4.0</td>\n",
       "    </tr>\n",
       "    <tr>\n",
       "      <th>9</th>\n",
       "      <td>합계</td>\n",
       "      <td>2020</td>\n",
       "      <td>25.0</td>\n",
       "      <td>3.0</td>\n",
       "      <td>4.0</td>\n",
       "    </tr>\n",
       "    <tr>\n",
       "      <th>10</th>\n",
       "      <td>합계</td>\n",
       "      <td>2021</td>\n",
       "      <td>25.0</td>\n",
       "      <td>3.0</td>\n",
       "      <td>4.0</td>\n",
       "    </tr>\n",
       "  </tbody>\n",
       "</table>\n",
       "</div>"
      ],
      "text/plain": [
       "   자치구별(1)    시점   문화원  국악원  전수회관\n",
       "0       합계  2011  25.0  2.0   4.0\n",
       "1       합계  2012  25.0  2.0   4.0\n",
       "2       합계  2013  25.0  2.0   4.0\n",
       "3       합계  2014  25.0  2.0   4.0\n",
       "4       합계  2015  25.0  2.0   4.0\n",
       "5       합계  2016  25.0  3.0   4.0\n",
       "6       합계  2017  25.0  3.0   4.0\n",
       "7       합계  2018  25.0  3.0   4.0\n",
       "8       합계  2019  25.0  3.0   4.0\n",
       "9       합계  2020  25.0  3.0   4.0\n",
       "10      합계  2021  25.0  3.0   4.0"
      ]
     },
     "execution_count": 27,
     "metadata": {},
     "output_type": "execute_result"
    }
   ],
   "source": [
    "file # 10년과 크게 다르지 않음"
   ]
  },
  {
   "cell_type": "markdown",
   "id": "946aa997",
   "metadata": {},
   "source": [
    "### 문화공간 - 지역문화복지시설"
   ]
  },
  {
   "cell_type": "code",
   "execution_count": 32,
   "id": "ee210fd5",
   "metadata": {},
   "outputs": [
    {
     "name": "stderr",
     "output_type": "stream",
     "text": [
      "C:\\Users\\user\\anaconda3\\lib\\site-packages\\openpyxl\\styles\\stylesheet.py:226: UserWarning: Workbook contains no default style, apply openpyxl's default\n",
      "  warn(\"Workbook contains no default style, apply openpyxl's default\")\n"
     ]
    }
   ],
   "source": [
    "file = pd.read_excel(path + '문화공간(지역문화복지시설)_20221124091542.xlsx')"
   ]
  },
  {
   "cell_type": "code",
   "execution_count": 33,
   "id": "bc3a9bd9",
   "metadata": {},
   "outputs": [],
   "source": [
    "file = file.astype({'시점' : str})"
   ]
  },
  {
   "cell_type": "code",
   "execution_count": 34,
   "id": "277c4350",
   "metadata": {},
   "outputs": [
    {
     "data": {
      "image/png": "[encoded data removed]",
      "text/plain": [
       "<Figure size 720x432 with 1 Axes>"
      ]
     },
     "metadata": {},
     "output_type": "display_data"
    }
   ],
   "source": [
    "file\n",
    "fig, ax = plt.subplots(figsize = (10,6))\n",
    "ax.set_facecolor('white')\n",
    "barwidth = 0.15\n",
    "val = 0.1\n",
    "x = np.arange(len(file))\n",
    "\n",
    "\n",
    "# for i, label in enumerate(file.columns[2:]):\n",
    "#     ax = plt.bar(x +i*barwidth, file.loc[:, label], barwidth, label = label)\n",
    "#     for j,v in enumerate(file.loc[:, label]):\n",
    "# #         print(j + i*barwidth)\n",
    "#         plt.text(j + i*val, v+1, str(int(v)), rotation = 90)\n",
    "\n",
    "for i, label in enumerate(file.columns[2:]):\n",
    "    ax = plt.barh(x +i*barwidth, file.loc[:, label], barwidth, label = label)\n",
    "    for j,v in enumerate(file.loc[:, label]):\n",
    "#         print(j + i*barwidth)\n",
    "        plt.text( v, j + i*barwidth, str(int(v)),va = 'center')\n",
    "legend = plt.legend(loc='center',\n",
    "       frameon=False,\n",
    "       bbox_to_anchor=(0., 1.02, 1., -0.01), \n",
    "#        mode='expand', \n",
    "       ncol=4, \n",
    "       borderaxespad=-.46,\n",
    "       prop={'size': 10, 'family':font_family})\n",
    "plt.yticks(x+1*barwidth, file['시점'])\n",
    "plt.title('지역문화복지시설', fontsize = 15,pad =25)\n",
    "plt.show()\n",
    "# plt.title('지역문화복지시설', fontsize = 15)"
   ]
  },
  {
   "cell_type": "markdown",
   "id": "f23b69a0",
   "metadata": {},
   "source": [
    "## 문화공연 및 전시회"
   ]
  },
  {
   "cell_type": "code",
   "execution_count": 35,
   "id": "f4adf338",
   "metadata": {},
   "outputs": [
    {
     "name": "stderr",
     "output_type": "stream",
     "text": [
      "C:\\Users\\user\\anaconda3\\lib\\site-packages\\openpyxl\\styles\\stylesheet.py:226: UserWarning: Workbook contains no default style, apply openpyxl's default\n",
      "  warn(\"Workbook contains no default style, apply openpyxl's default\")\n"
     ]
    }
   ],
   "source": [
    "file = pd.read_excel(path +'문화공연+및+전시회_2011_2020.xlsx') # 단위 (건)"
   ]
  },
  {
   "cell_type": "code",
   "execution_count": 36,
   "id": "2670480c",
   "metadata": {},
   "outputs": [],
   "source": [
    "file\n",
    "total = file.iloc[[0], 3:]\n",
    "exhibition = file.iloc[1:3, 1:]\n",
    "show = file.iloc[3:, 1:]"
   ]
  },
  {
   "cell_type": "code",
   "execution_count": 37,
   "id": "b87a567a",
   "metadata": {},
   "outputs": [
    {
     "data": {
      "text/html": [
       "<div>\n",
       "<style scoped>\n",
       "    .dataframe tbody tr th:only-of-type {\n",
       "        vertical-align: middle;\n",
       "    }\n",
       "\n",
       "    .dataframe tbody tr th {\n",
       "        vertical-align: top;\n",
       "    }\n",
       "\n",
       "    .dataframe thead th {\n",
       "        text-align: right;\n",
       "    }\n",
       "</style>\n",
       "<table border=\"1\" class=\"dataframe\">\n",
       "  <thead>\n",
       "    <tr style=\"text-align: right;\">\n",
       "      <th></th>\n",
       "      <th>2011</th>\n",
       "      <th>2012</th>\n",
       "      <th>2013</th>\n",
       "      <th>2014</th>\n",
       "      <th>2015</th>\n",
       "      <th>2016</th>\n",
       "      <th>2017</th>\n",
       "      <th>2018</th>\n",
       "      <th>2019</th>\n",
       "      <th>2020</th>\n",
       "    </tr>\n",
       "  </thead>\n",
       "  <tbody>\n",
       "    <tr>\n",
       "      <th>0</th>\n",
       "      <td>12541.0</td>\n",
       "      <td>12007.0</td>\n",
       "      <td>11928.0</td>\n",
       "      <td>13581.0</td>\n",
       "      <td>12465.0</td>\n",
       "      <td>12350.0</td>\n",
       "      <td>13217.0</td>\n",
       "      <td>14093.0</td>\n",
       "      <td>13863.0</td>\n",
       "      <td>5539.0</td>\n",
       "    </tr>\n",
       "  </tbody>\n",
       "</table>\n",
       "</div>"
      ],
      "text/plain": [
       "      2011     2012     2013     2014     2015     2016     2017     2018  \\\n",
       "0  12541.0  12007.0  11928.0  13581.0  12465.0  12350.0  13217.0  14093.0   \n",
       "\n",
       "      2019    2020  \n",
       "0  13863.0  5539.0  "
      ]
     },
     "execution_count": 37,
     "metadata": {},
     "output_type": "execute_result"
    }
   ],
   "source": [
    "total"
   ]
  },
  {
   "cell_type": "code",
   "execution_count": 38,
   "id": "906a4083",
   "metadata": {},
   "outputs": [
    {
     "data": {
      "text/html": [
       "<div>\n",
       "<style scoped>\n",
       "    .dataframe tbody tr th:only-of-type {\n",
       "        vertical-align: middle;\n",
       "    }\n",
       "\n",
       "    .dataframe tbody tr th {\n",
       "        vertical-align: top;\n",
       "    }\n",
       "\n",
       "    .dataframe thead th {\n",
       "        text-align: right;\n",
       "    }\n",
       "</style>\n",
       "<table border=\"1\" class=\"dataframe\">\n",
       "  <thead>\n",
       "    <tr style=\"text-align: right;\">\n",
       "      <th></th>\n",
       "      <th>분류별(2)</th>\n",
       "      <th>분류별(3)</th>\n",
       "      <th>2011</th>\n",
       "      <th>2012</th>\n",
       "      <th>2013</th>\n",
       "      <th>2014</th>\n",
       "      <th>2015</th>\n",
       "      <th>2016</th>\n",
       "      <th>2017</th>\n",
       "      <th>2018</th>\n",
       "      <th>2019</th>\n",
       "      <th>2020</th>\n",
       "    </tr>\n",
       "  </thead>\n",
       "  <tbody>\n",
       "    <tr>\n",
       "      <th>1</th>\n",
       "      <td>미술전시회</td>\n",
       "      <td>소계</td>\n",
       "      <td>7268.0</td>\n",
       "      <td>7102.0</td>\n",
       "      <td>6824.0</td>\n",
       "      <td>7533.0</td>\n",
       "      <td>-</td>\n",
       "      <td>-</td>\n",
       "      <td>-</td>\n",
       "      <td>-</td>\n",
       "      <td>-</td>\n",
       "      <td>-</td>\n",
       "    </tr>\n",
       "    <tr>\n",
       "      <th>2</th>\n",
       "      <td>시각예술전시</td>\n",
       "      <td>소계</td>\n",
       "      <td>-</td>\n",
       "      <td>-</td>\n",
       "      <td>-</td>\n",
       "      <td>-</td>\n",
       "      <td>5516.0</td>\n",
       "      <td>5697.0</td>\n",
       "      <td>6199.0</td>\n",
       "      <td>6312.0</td>\n",
       "      <td>6268.0</td>\n",
       "      <td>2110.0</td>\n",
       "    </tr>\n",
       "  </tbody>\n",
       "</table>\n",
       "</div>"
      ],
      "text/plain": [
       "   분류별(2) 분류별(3)    2011    2012    2013    2014    2015    2016    2017  \\\n",
       "1   미술전시회     소계  7268.0  7102.0  6824.0  7533.0       -       -       -   \n",
       "2  시각예술전시     소계       -       -       -       -  5516.0  5697.0  6199.0   \n",
       "\n",
       "     2018    2019    2020  \n",
       "1       -       -       -  \n",
       "2  6312.0  6268.0  2110.0  "
      ]
     },
     "execution_count": 38,
     "metadata": {},
     "output_type": "execute_result"
    }
   ],
   "source": [
    "exhibition"
   ]
  },
  {
   "cell_type": "code",
   "execution_count": 39,
   "id": "03c83a95",
   "metadata": {},
   "outputs": [
    {
     "data": {
      "text/html": [
       "<div>\n",
       "<style scoped>\n",
       "    .dataframe tbody tr th:only-of-type {\n",
       "        vertical-align: middle;\n",
       "    }\n",
       "\n",
       "    .dataframe tbody tr th {\n",
       "        vertical-align: top;\n",
       "    }\n",
       "\n",
       "    .dataframe thead th {\n",
       "        text-align: right;\n",
       "    }\n",
       "</style>\n",
       "<table border=\"1\" class=\"dataframe\">\n",
       "  <thead>\n",
       "    <tr style=\"text-align: right;\">\n",
       "      <th></th>\n",
       "      <th>분류별(2)</th>\n",
       "      <th>분류별(3)</th>\n",
       "      <th>2011</th>\n",
       "      <th>2012</th>\n",
       "      <th>2013</th>\n",
       "      <th>2014</th>\n",
       "      <th>2015</th>\n",
       "      <th>2016</th>\n",
       "      <th>2017</th>\n",
       "      <th>2018</th>\n",
       "      <th>2019</th>\n",
       "      <th>2020</th>\n",
       "    </tr>\n",
       "  </thead>\n",
       "  <tbody>\n",
       "    <tr>\n",
       "      <th>3</th>\n",
       "      <td>공연예술</td>\n",
       "      <td>소계</td>\n",
       "      <td>-</td>\n",
       "      <td>-</td>\n",
       "      <td>-</td>\n",
       "      <td>-</td>\n",
       "      <td>6949.0</td>\n",
       "      <td>6653.0</td>\n",
       "      <td>7018.0</td>\n",
       "      <td>7781.0</td>\n",
       "      <td>7595.0</td>\n",
       "      <td>3429.0</td>\n",
       "    </tr>\n",
       "    <tr>\n",
       "      <th>4</th>\n",
       "      <td>공연예술</td>\n",
       "      <td>국악</td>\n",
       "      <td>667.0</td>\n",
       "      <td>733.0</td>\n",
       "      <td>505.0</td>\n",
       "      <td>636.0</td>\n",
       "      <td>502.0</td>\n",
       "      <td>411.0</td>\n",
       "      <td>619.0</td>\n",
       "      <td>751.0</td>\n",
       "      <td>662.0</td>\n",
       "      <td>184.0</td>\n",
       "    </tr>\n",
       "    <tr>\n",
       "      <th>5</th>\n",
       "      <td>공연예술</td>\n",
       "      <td>양악</td>\n",
       "      <td>-</td>\n",
       "      <td>-</td>\n",
       "      <td>-</td>\n",
       "      <td>-</td>\n",
       "      <td>3821.0</td>\n",
       "      <td>3568.0</td>\n",
       "      <td>3571.0</td>\n",
       "      <td>4101.0</td>\n",
       "      <td>3779.0</td>\n",
       "      <td>1842.0</td>\n",
       "    </tr>\n",
       "    <tr>\n",
       "      <th>6</th>\n",
       "      <td>공연예술</td>\n",
       "      <td>음악</td>\n",
       "      <td>3037.0</td>\n",
       "      <td>2702.0</td>\n",
       "      <td>2846.0</td>\n",
       "      <td>3672.0</td>\n",
       "      <td>-</td>\n",
       "      <td>-</td>\n",
       "      <td>-</td>\n",
       "      <td>-</td>\n",
       "      <td>-</td>\n",
       "      <td>-</td>\n",
       "    </tr>\n",
       "    <tr>\n",
       "      <th>7</th>\n",
       "      <td>공연예술</td>\n",
       "      <td>무용</td>\n",
       "      <td>540.0</td>\n",
       "      <td>648.0</td>\n",
       "      <td>721.0</td>\n",
       "      <td>528.0</td>\n",
       "      <td>537.0</td>\n",
       "      <td>527.0</td>\n",
       "      <td>507.0</td>\n",
       "      <td>479.0</td>\n",
       "      <td>544.0</td>\n",
       "      <td>173.0</td>\n",
       "    </tr>\n",
       "    <tr>\n",
       "      <th>8</th>\n",
       "      <td>공연예술</td>\n",
       "      <td>연극</td>\n",
       "      <td>1029.0</td>\n",
       "      <td>822.0</td>\n",
       "      <td>1032.0</td>\n",
       "      <td>1212.0</td>\n",
       "      <td>1635.0</td>\n",
       "      <td>1615.0</td>\n",
       "      <td>1667.0</td>\n",
       "      <td>1777.0</td>\n",
       "      <td>1835.0</td>\n",
       "      <td>1042.0</td>\n",
       "    </tr>\n",
       "    <tr>\n",
       "      <th>9</th>\n",
       "      <td>공연예술</td>\n",
       "      <td>혼합</td>\n",
       "      <td>-</td>\n",
       "      <td>-</td>\n",
       "      <td>-</td>\n",
       "      <td>-</td>\n",
       "      <td>454.0</td>\n",
       "      <td>532.0</td>\n",
       "      <td>654.0</td>\n",
       "      <td>673.0</td>\n",
       "      <td>775.0</td>\n",
       "      <td>188.0</td>\n",
       "    </tr>\n",
       "  </tbody>\n",
       "</table>\n",
       "</div>"
      ],
      "text/plain": [
       "  분류별(2) 분류별(3)    2011    2012    2013    2014    2015    2016    2017  \\\n",
       "3   공연예술     소계       -       -       -       -  6949.0  6653.0  7018.0   \n",
       "4   공연예술     국악   667.0   733.0   505.0   636.0   502.0   411.0   619.0   \n",
       "5   공연예술     양악       -       -       -       -  3821.0  3568.0  3571.0   \n",
       "6   공연예술     음악  3037.0  2702.0  2846.0  3672.0       -       -       -   \n",
       "7   공연예술     무용   540.0   648.0   721.0   528.0   537.0   527.0   507.0   \n",
       "8   공연예술     연극  1029.0   822.0  1032.0  1212.0  1635.0  1615.0  1667.0   \n",
       "9   공연예술     혼합       -       -       -       -   454.0   532.0   654.0   \n",
       "\n",
       "     2018    2019    2020  \n",
       "3  7781.0  7595.0  3429.0  \n",
       "4   751.0   662.0   184.0  \n",
       "5  4101.0  3779.0  1842.0  \n",
       "6       -       -       -  \n",
       "7   479.0   544.0   173.0  \n",
       "8  1777.0  1835.0  1042.0  \n",
       "9   673.0   775.0   188.0  "
      ]
     },
     "execution_count": 39,
     "metadata": {},
     "output_type": "execute_result"
    }
   ],
   "source": [
    "show"
   ]
  },
  {
   "cell_type": "code",
   "execution_count": 44,
   "id": "c498a331",
   "metadata": {},
   "outputs": [
    {
     "data": {
      "image/png": "[encoded data removed]",
      "text/plain": [
       "<Figure size 720x432 with 1 Axes>"
      ]
     },
     "metadata": {},
     "output_type": "display_data"
    }
   ],
   "source": [
    "# 전시회와 공연은 데이터가 없는 해가 있어서 total 로 그래프를 그림\n",
    "fig, ax = plt.subplots(figsize = (10,6))\n",
    "ax.set_facecolor('white')\n",
    "\n",
    "ax = sns.lineplot(x = total.columns, y = total.loc[0, :], marker = 'o')\n",
    "for i, v in enumerate(total.loc[0, :]):\n",
    "    plt.text(i, v+200, format(int(v), ',') + '건', ha='center')\n",
    "\n",
    "ax.set_title('전시회 및 공연 건수', fontsize = 14)\n",
    "ax.set_xlabel('연도', fontsize = 12)\n",
    "ax.set_ylabel('건수', fontsize = 12)\n",
    "\n",
    "plt.show()"
   ]
  },
  {
   "cell_type": "markdown",
   "id": "6018f596",
   "metadata": {},
   "source": [
    "## 문화예술 및 스포츠관람"
   ]
  },
  {
   "cell_type": "code",
   "execution_count": 45,
   "id": "7abc4fa8",
   "metadata": {},
   "outputs": [
    {
     "name": "stderr",
     "output_type": "stream",
     "text": [
      "C:\\Users\\user\\anaconda3\\lib\\site-packages\\openpyxl\\styles\\stylesheet.py:226: UserWarning: Workbook contains no default style, apply openpyxl's default\n",
      "  warn(\"Workbook contains no default style, apply openpyxl's default\")\n"
     ]
    }
   ],
   "source": [
    "file = pd.read_excel(path +'문화예술_및_스포츠관람현황_시도__2011_2021.xlsx')\n",
    "# 설문조사 - 가중치를 위한 표본의 수가 없음"
   ]
  },
  {
   "cell_type": "code",
   "execution_count": 46,
   "id": "2b3a9ae7",
   "metadata": {},
   "outputs": [
    {
     "data": {
      "text/plain": [
       "Index(['행정구역별(1)', '시점', '특성별(1)', '특성별(2)', '계 (%)', '관람함 (%)',\n",
       "       '관람횟수(평균) (회)', '- 음악·연주회 (%)', '· 관람 횟수(평균) (회)', '- 연극·마당극·뮤지컬 (%)',\n",
       "       '· 관람 횟수(평균) (회).1', '- 무용 (%)', '· 관람 횟수(평균) (회).2', '- 영화 (%)',\n",
       "       '· 관람 횟수(평균) (회).3', '- 박물관 관람 (%)', '· 관람 횟수(평균) (회).4',\n",
       "       '- 미술관 관람 (%)', '· 관람 횟수(평균) (회).5', '- 스포츠 관람 (%)',\n",
       "       '· 관람 횟수(평균) (회).6', '- 기타 (%)', '· 관람 횟수(평균) (회).7'],\n",
       "      dtype='object')"
      ]
     },
     "execution_count": 46,
     "metadata": {},
     "output_type": "execute_result"
    }
   ],
   "source": [
    "total = file[file['특성별(2)'] =='계']\n",
    "total.columns"
   ]
  },
  {
   "cell_type": "markdown",
   "id": "200ceb87",
   "metadata": {},
   "source": [
    "## 문화재"
   ]
  },
  {
   "cell_type": "code",
   "execution_count": 47,
   "id": "576cfbbf",
   "metadata": {},
   "outputs": [
    {
     "name": "stderr",
     "output_type": "stream",
     "text": [
      "C:\\Users\\user\\anaconda3\\lib\\site-packages\\openpyxl\\styles\\stylesheet.py:226: UserWarning: Workbook contains no default style, apply openpyxl's default\n",
      "  warn(\"Workbook contains no default style, apply openpyxl's default\")\n"
     ]
    }
   ],
   "source": [
    "file = pd.read_excel(path + '문화재(2008년+이후)_2011_2021.xlsx')"
   ]
  },
  {
   "cell_type": "code",
   "execution_count": 48,
   "id": "1eab8168",
   "metadata": {},
   "outputs": [],
   "source": [
    "# file"
   ]
  },
  {
   "cell_type": "code",
   "execution_count": 49,
   "id": "3166e2df",
   "metadata": {},
   "outputs": [
    {
     "data": {
      "text/plain": [
       "array(['자치구별(1)', '시점', '소계', '지정문화재', '등록문화재'], dtype=object)"
      ]
     },
     "execution_count": 49,
     "metadata": {},
     "output_type": "execute_result"
    }
   ],
   "source": [
    "file # 소계\n",
    "file.loc[0, :].unique()"
   ]
  },
  {
   "cell_type": "code",
   "execution_count": 50,
   "id": "421d444f",
   "metadata": {},
   "outputs": [],
   "source": [
    "# 지정문화재\n",
    "col_1 = [col for col in file.columns if file.loc[0, col] == '지정문화재']"
   ]
  },
  {
   "cell_type": "code",
   "execution_count": 51,
   "id": "697cb17d",
   "metadata": {},
   "outputs": [
    {
     "data": {
      "text/html": [
       "<div>\n",
       "<style scoped>\n",
       "    .dataframe tbody tr th:only-of-type {\n",
       "        vertical-align: middle;\n",
       "    }\n",
       "\n",
       "    .dataframe tbody tr th {\n",
       "        vertical-align: top;\n",
       "    }\n",
       "\n",
       "    .dataframe thead th {\n",
       "        text-align: right;\n",
       "    }\n",
       "</style>\n",
       "<table border=\"1\" class=\"dataframe\">\n",
       "  <thead>\n",
       "    <tr style=\"text-align: right;\">\n",
       "      <th>1</th>\n",
       "      <th>시점</th>\n",
       "      <th>국가지정문화재</th>\n",
       "      <th>시지정문화재</th>\n",
       "      <th>문화재자료</th>\n",
       "    </tr>\n",
       "  </thead>\n",
       "  <tbody>\n",
       "    <tr>\n",
       "      <th>0</th>\n",
       "      <td>2011</td>\n",
       "      <td>859.0</td>\n",
       "      <td>394.0</td>\n",
       "      <td>48.0</td>\n",
       "    </tr>\n",
       "    <tr>\n",
       "      <th>1</th>\n",
       "      <td>2012</td>\n",
       "      <td>874.0</td>\n",
       "      <td>411.0</td>\n",
       "      <td>53.0</td>\n",
       "    </tr>\n",
       "    <tr>\n",
       "      <th>2</th>\n",
       "      <td>2013</td>\n",
       "      <td>909.0</td>\n",
       "      <td>428.0</td>\n",
       "      <td>51.0</td>\n",
       "    </tr>\n",
       "    <tr>\n",
       "      <th>3</th>\n",
       "      <td>2014</td>\n",
       "      <td>914.0</td>\n",
       "      <td>451.0</td>\n",
       "      <td>57.0</td>\n",
       "    </tr>\n",
       "    <tr>\n",
       "      <th>4</th>\n",
       "      <td>2015</td>\n",
       "      <td>932.0</td>\n",
       "      <td>458.0</td>\n",
       "      <td>58.0</td>\n",
       "    </tr>\n",
       "    <tr>\n",
       "      <th>5</th>\n",
       "      <td>2016</td>\n",
       "      <td>999.0</td>\n",
       "      <td>478.0</td>\n",
       "      <td>61.0</td>\n",
       "    </tr>\n",
       "    <tr>\n",
       "      <th>6</th>\n",
       "      <td>2017</td>\n",
       "      <td>1013.0</td>\n",
       "      <td>499.0</td>\n",
       "      <td>63.0</td>\n",
       "    </tr>\n",
       "    <tr>\n",
       "      <th>7</th>\n",
       "      <td>2018</td>\n",
       "      <td>1033.0</td>\n",
       "      <td>515.0</td>\n",
       "      <td>68.0</td>\n",
       "    </tr>\n",
       "    <tr>\n",
       "      <th>8</th>\n",
       "      <td>2019</td>\n",
       "      <td>1042.0</td>\n",
       "      <td>542.0</td>\n",
       "      <td>68.0</td>\n",
       "    </tr>\n",
       "    <tr>\n",
       "      <th>9</th>\n",
       "      <td>2020</td>\n",
       "      <td>1048.0</td>\n",
       "      <td>563.0</td>\n",
       "      <td>75.0</td>\n",
       "    </tr>\n",
       "    <tr>\n",
       "      <th>10</th>\n",
       "      <td>2021</td>\n",
       "      <td>1075.0</td>\n",
       "      <td>607.0</td>\n",
       "      <td>81.0</td>\n",
       "    </tr>\n",
       "  </tbody>\n",
       "</table>\n",
       "</div>"
      ],
      "text/plain": [
       "1     시점 국가지정문화재 시지정문화재 문화재자료\n",
       "0   2011   859.0  394.0  48.0\n",
       "1   2012   874.0  411.0  53.0\n",
       "2   2013   909.0  428.0  51.0\n",
       "3   2014   914.0  451.0  57.0\n",
       "4   2015   932.0  458.0  58.0\n",
       "5   2016   999.0  478.0  61.0\n",
       "6   2017  1013.0  499.0  63.0\n",
       "7   2018  1033.0  515.0  68.0\n",
       "8   2019  1042.0  542.0  68.0\n",
       "9   2020  1048.0  563.0  75.0\n",
       "10  2021  1075.0  607.0  81.0"
      ]
     },
     "execution_count": 51,
     "metadata": {},
     "output_type": "execute_result"
    }
   ],
   "source": [
    "file_1 = file.loc[:, ['시점']+col_1]\n",
    "# 국가지정문화재 0 \n",
    "# 시지정문화재 9 \n",
    "# 문화재자료 -1\n",
    "\n",
    "file_1 = file_1.iloc[:, [0,1, 10, -1]]\n",
    "file_1.columns = file_1.iloc[1, :]\n",
    "file_1.drop([0,1,2], axis=0, inplace=True)\n",
    "file_1.reset_index(drop=True, inplace=True)\n",
    "file_1"
   ]
  },
  {
   "cell_type": "code",
   "execution_count": 53,
   "id": "e0eac302",
   "metadata": {},
   "outputs": [
    {
     "data": {
      "image/png": "[encoded data removed]",
      "text/plain": [
       "<Figure size 720x432 with 1 Axes>"
      ]
     },
     "metadata": {},
     "output_type": "display_data"
    }
   ],
   "source": [
    "file_1 = file_1.astype({'시점' : str})\n",
    "\n",
    "fig, ax = plt.subplots(figsize = (10,6))\n",
    "ax.set_facecolor('white')\n",
    "\n",
    "for col in file_1.columns[1:]:\n",
    "    ax = sns.lineplot(x = '시점', y=col, data=file_1, label = col, marker='o', markersize = 6)\n",
    "    for i, v in enumerate(file_1.loc[:,col]):\n",
    "        plt.text(i,v+10,str(int(v)), ha='center')\n",
    "ax.legend()\n",
    "plt.title('지정문화재', fontsize= 12)\n",
    "plt.show()"
   ]
  },
  {
   "cell_type": "code",
   "execution_count": 77,
   "id": "7143872d",
   "metadata": {},
   "outputs": [],
   "source": [
    "# 등록문화재\n",
    "col_2 = [col for col in file.columns if file.loc[0, col] == '등록문화재']"
   ]
  },
  {
   "cell_type": "code",
   "execution_count": 79,
   "id": "88c84d26",
   "metadata": {},
   "outputs": [
    {
     "data": {
      "text/html": [
       "<div>\n",
       "<style scoped>\n",
       "    .dataframe tbody tr th:only-of-type {\n",
       "        vertical-align: middle;\n",
       "    }\n",
       "\n",
       "    .dataframe tbody tr th {\n",
       "        vertical-align: top;\n",
       "    }\n",
       "\n",
       "    .dataframe thead th {\n",
       "        text-align: right;\n",
       "    }\n",
       "</style>\n",
       "<table border=\"1\" class=\"dataframe\">\n",
       "  <thead>\n",
       "    <tr style=\"text-align: right;\">\n",
       "      <th></th>\n",
       "      <th>문화재.16</th>\n",
       "      <th>문화재.17</th>\n",
       "      <th>문화재.18</th>\n",
       "    </tr>\n",
       "  </thead>\n",
       "  <tbody>\n",
       "    <tr>\n",
       "      <th>0</th>\n",
       "      <td>등록문화재</td>\n",
       "      <td>등록문화재</td>\n",
       "      <td>등록문화재</td>\n",
       "    </tr>\n",
       "    <tr>\n",
       "      <th>1</th>\n",
       "      <td>소계</td>\n",
       "      <td>국가등록문화재</td>\n",
       "      <td>시등록문화재</td>\n",
       "    </tr>\n",
       "    <tr>\n",
       "      <th>2</th>\n",
       "      <td>소계</td>\n",
       "      <td>소계</td>\n",
       "      <td>소계</td>\n",
       "    </tr>\n",
       "    <tr>\n",
       "      <th>3</th>\n",
       "      <td>90.0</td>\n",
       "      <td>-</td>\n",
       "      <td>-</td>\n",
       "    </tr>\n",
       "    <tr>\n",
       "      <th>4</th>\n",
       "      <td>143.0</td>\n",
       "      <td>-</td>\n",
       "      <td>-</td>\n",
       "    </tr>\n",
       "    <tr>\n",
       "      <th>5</th>\n",
       "      <td>137.0</td>\n",
       "      <td>-</td>\n",
       "      <td>-</td>\n",
       "    </tr>\n",
       "    <tr>\n",
       "      <th>6</th>\n",
       "      <td>141.0</td>\n",
       "      <td>-</td>\n",
       "      <td>-</td>\n",
       "    </tr>\n",
       "    <tr>\n",
       "      <th>7</th>\n",
       "      <td>170.0</td>\n",
       "      <td>-</td>\n",
       "      <td>-</td>\n",
       "    </tr>\n",
       "    <tr>\n",
       "      <th>8</th>\n",
       "      <td>185.0</td>\n",
       "      <td>-</td>\n",
       "      <td>-</td>\n",
       "    </tr>\n",
       "    <tr>\n",
       "      <th>9</th>\n",
       "      <td>195.0</td>\n",
       "      <td>-</td>\n",
       "      <td>-</td>\n",
       "    </tr>\n",
       "    <tr>\n",
       "      <th>10</th>\n",
       "      <td>203.0</td>\n",
       "      <td>-</td>\n",
       "      <td>-</td>\n",
       "    </tr>\n",
       "    <tr>\n",
       "      <th>11</th>\n",
       "      <td>-</td>\n",
       "      <td>209.0</td>\n",
       "      <td>-</td>\n",
       "    </tr>\n",
       "    <tr>\n",
       "      <th>12</th>\n",
       "      <td>-</td>\n",
       "      <td>229.0</td>\n",
       "      <td>7.0</td>\n",
       "    </tr>\n",
       "    <tr>\n",
       "      <th>13</th>\n",
       "      <td>-</td>\n",
       "      <td>231.0</td>\n",
       "      <td>18.0</td>\n",
       "    </tr>\n",
       "  </tbody>\n",
       "</table>\n",
       "</div>"
      ],
      "text/plain": [
       "   문화재.16   문화재.17  문화재.18\n",
       "0   등록문화재    등록문화재   등록문화재\n",
       "1      소계  국가등록문화재  시등록문화재\n",
       "2      소계       소계      소계\n",
       "3    90.0        -       -\n",
       "4   143.0        -       -\n",
       "5   137.0        -       -\n",
       "6   141.0        -       -\n",
       "7   170.0        -       -\n",
       "8   185.0        -       -\n",
       "9   195.0        -       -\n",
       "10  203.0        -       -\n",
       "11      -    209.0       -\n",
       "12      -    229.0     7.0\n",
       "13      -    231.0    18.0"
      ]
     },
     "execution_count": 79,
     "metadata": {},
     "output_type": "execute_result"
    }
   ],
   "source": [
    "file.loc[:, col_2] # null 값이 많아서 그래프로 표시 고민"
   ]
  },
  {
   "cell_type": "markdown",
   "id": "dd4a23e3",
   "metadata": {},
   "source": [
    "## 언론매체"
   ]
  },
  {
   "cell_type": "code",
   "execution_count": 54,
   "id": "b8fe5ce0",
   "metadata": {
    "scrolled": true
   },
   "outputs": [
    {
     "name": "stderr",
     "output_type": "stream",
     "text": [
      "C:\\Users\\user\\anaconda3\\lib\\site-packages\\openpyxl\\styles\\stylesheet.py:226: UserWarning: Workbook contains no default style, apply openpyxl's default\n",
      "  warn(\"Workbook contains no default style, apply openpyxl's default\")\n"
     ]
    },
    {
     "data": {
      "text/html": [
       "<div>\n",
       "<style scoped>\n",
       "    .dataframe tbody tr th:only-of-type {\n",
       "        vertical-align: middle;\n",
       "    }\n",
       "\n",
       "    .dataframe tbody tr th {\n",
       "        vertical-align: top;\n",
       "    }\n",
       "\n",
       "    .dataframe thead th {\n",
       "        text-align: right;\n",
       "    }\n",
       "</style>\n",
       "<table border=\"1\" class=\"dataframe\">\n",
       "  <thead>\n",
       "    <tr style=\"text-align: right;\">\n",
       "      <th></th>\n",
       "      <th>시점</th>\n",
       "      <th>방송사</th>\n",
       "      <th>신문사</th>\n",
       "    </tr>\n",
       "  </thead>\n",
       "  <tbody>\n",
       "    <tr>\n",
       "      <th>1</th>\n",
       "      <td>2011</td>\n",
       "      <td>62.0</td>\n",
       "      <td>1194.0</td>\n",
       "    </tr>\n",
       "    <tr>\n",
       "      <th>2</th>\n",
       "      <td>2012</td>\n",
       "      <td>220.0</td>\n",
       "      <td>1446.0</td>\n",
       "    </tr>\n",
       "    <tr>\n",
       "      <th>3</th>\n",
       "      <td>2013</td>\n",
       "      <td>219.0</td>\n",
       "      <td>1483.0</td>\n",
       "    </tr>\n",
       "    <tr>\n",
       "      <th>4</th>\n",
       "      <td>2014</td>\n",
       "      <td>210.0</td>\n",
       "      <td>1655.0</td>\n",
       "    </tr>\n",
       "    <tr>\n",
       "      <th>5</th>\n",
       "      <td>2015</td>\n",
       "      <td>229.0</td>\n",
       "      <td>1974.0</td>\n",
       "    </tr>\n",
       "    <tr>\n",
       "      <th>6</th>\n",
       "      <td>2016</td>\n",
       "      <td>209.0</td>\n",
       "      <td>1948.0</td>\n",
       "    </tr>\n",
       "    <tr>\n",
       "      <th>7</th>\n",
       "      <td>2017</td>\n",
       "      <td>231.0</td>\n",
       "      <td>2102.0</td>\n",
       "    </tr>\n",
       "    <tr>\n",
       "      <th>8</th>\n",
       "      <td>2018</td>\n",
       "      <td>232.0</td>\n",
       "      <td>2007.0</td>\n",
       "    </tr>\n",
       "    <tr>\n",
       "      <th>9</th>\n",
       "      <td>2019</td>\n",
       "      <td>220.0</td>\n",
       "      <td>1946.0</td>\n",
       "    </tr>\n",
       "    <tr>\n",
       "      <th>10</th>\n",
       "      <td>2020</td>\n",
       "      <td>219.0</td>\n",
       "      <td>2375.0</td>\n",
       "    </tr>\n",
       "  </tbody>\n",
       "</table>\n",
       "</div>"
      ],
      "text/plain": [
       "      시점    방송사     신문사\n",
       "1   2011   62.0  1194.0\n",
       "2   2012  220.0  1446.0\n",
       "3   2013  219.0  1483.0\n",
       "4   2014  210.0  1655.0\n",
       "5   2015  229.0  1974.0\n",
       "6   2016  209.0  1948.0\n",
       "7   2017  231.0  2102.0\n",
       "8   2018  232.0  2007.0\n",
       "9   2019  220.0  1946.0\n",
       "10  2020  219.0  2375.0"
      ]
     },
     "execution_count": 54,
     "metadata": {},
     "output_type": "execute_result"
    }
   ],
   "source": [
    "file = pd.read_excel(path +'언론매체(2009년+이후)_2011_2020.xlsx')\n",
    "file = file.astype({'시점' : str})\n",
    "_file = file.iloc[1:,[1,2,10]]\n",
    "_file"
   ]
  },
  {
   "cell_type": "code",
   "execution_count": 55,
   "id": "118873db",
   "metadata": {},
   "outputs": [
    {
     "data": {
      "image/png": "[encoded data removed]",
      "text/plain": [
       "<Figure size 720x432 with 1 Axes>"
      ]
     },
     "metadata": {},
     "output_type": "display_data"
    }
   ],
   "source": [
    "fig, ax = plt.subplots(figsize = (10,6))\n",
    "\n",
    "ax.set_facecolor('white')\n",
    "\n",
    "for col in ['방송사', '신문사']:\n",
    "    ax = sns.lineplot(x = '시점', y = col, data = _file, marker= 'o', markersize = 6, label = col)\n",
    "    \n",
    "    for i,v in enumerate(_file[col]):\n",
    "        plt.text(i, v+20, format(int(v), ','), ha='center')\n",
    "\n",
    "plt.legend()\n",
    "plt.title('서울 언론매체', fontsize = 14)\n",
    "plt.xlabel('연도')\n",
    "plt.ylabel('언론매체 수')\n",
    "plt.show()"
   ]
  },
  {
   "cell_type": "markdown",
   "id": "d5cc97d3",
   "metadata": {},
   "source": [
    "## 인구 10만명당 공연횟수\n",
    " '인구+10만명당+공연횟수_2011_2020.xlsx',\n",
    " '인구_십만명당_문화기반시설수_시도_시_군_구__2011_2020.xlsx',\n",
    " '지정등록문화재현황_시도__2011_2021.xlsx',\n",
    " '한강공원+이용객+현황_2013_2021.xlsx'"
   ]
  },
  {
   "cell_type": "code",
   "execution_count": 56,
   "id": "69273daf",
   "metadata": {},
   "outputs": [
    {
     "name": "stderr",
     "output_type": "stream",
     "text": [
      "C:\\Users\\user\\anaconda3\\lib\\site-packages\\openpyxl\\styles\\stylesheet.py:226: UserWarning: Workbook contains no default style, apply openpyxl's default\n",
      "  warn(\"Workbook contains no default style, apply openpyxl's default\")\n"
     ]
    },
    {
     "data": {
      "text/html": [
       "<div>\n",
       "<style scoped>\n",
       "    .dataframe tbody tr th:only-of-type {\n",
       "        vertical-align: middle;\n",
       "    }\n",
       "\n",
       "    .dataframe tbody tr th {\n",
       "        vertical-align: top;\n",
       "    }\n",
       "\n",
       "    .dataframe thead th {\n",
       "        text-align: right;\n",
       "    }\n",
       "</style>\n",
       "<table border=\"1\" class=\"dataframe\">\n",
       "  <thead>\n",
       "    <tr style=\"text-align: right;\">\n",
       "      <th></th>\n",
       "      <th>구분별(1)</th>\n",
       "      <th>구분별(2)</th>\n",
       "      <th>구분별(3)</th>\n",
       "      <th>2011</th>\n",
       "      <th>2011.1</th>\n",
       "      <th>2012</th>\n",
       "      <th>2012.1</th>\n",
       "      <th>2013</th>\n",
       "      <th>2013.1</th>\n",
       "      <th>2014</th>\n",
       "      <th>...</th>\n",
       "      <th>2016</th>\n",
       "      <th>2016.1</th>\n",
       "      <th>2017</th>\n",
       "      <th>2017.1</th>\n",
       "      <th>2018</th>\n",
       "      <th>2018.1</th>\n",
       "      <th>2019</th>\n",
       "      <th>2019.1</th>\n",
       "      <th>2020</th>\n",
       "      <th>2020.1</th>\n",
       "    </tr>\n",
       "  </thead>\n",
       "  <tbody>\n",
       "    <tr>\n",
       "      <th>0</th>\n",
       "      <td>구분별(1)</td>\n",
       "      <td>구분별(2)</td>\n",
       "      <td>구분별(3)</td>\n",
       "      <td>공연횟수</td>\n",
       "      <td>10만명당 공연횟수</td>\n",
       "      <td>공연횟수</td>\n",
       "      <td>10만명당 공연횟수</td>\n",
       "      <td>공연횟수</td>\n",
       "      <td>10만명당 공연횟수</td>\n",
       "      <td>공연횟수</td>\n",
       "      <td>...</td>\n",
       "      <td>공연횟수</td>\n",
       "      <td>10만명당 공연횟수</td>\n",
       "      <td>공연횟수</td>\n",
       "      <td>10만명당 공연횟수</td>\n",
       "      <td>공연횟수</td>\n",
       "      <td>10만명당 공연횟수</td>\n",
       "      <td>공연횟수</td>\n",
       "      <td>10만명당 공연횟수</td>\n",
       "      <td>공연횟수</td>\n",
       "      <td>10만명당 공연횟수</td>\n",
       "    </tr>\n",
       "    <tr>\n",
       "      <th>1</th>\n",
       "      <td>계</td>\n",
       "      <td>소계</td>\n",
       "      <td>소계</td>\n",
       "      <td>55004.0</td>\n",
       "      <td>537.0</td>\n",
       "      <td>41069.0</td>\n",
       "      <td>403.0</td>\n",
       "      <td>41513.0</td>\n",
       "      <td>409.0</td>\n",
       "      <td>49898.0</td>\n",
       "      <td>...</td>\n",
       "      <td>72815.0</td>\n",
       "      <td>733.0</td>\n",
       "      <td>63363.0</td>\n",
       "      <td>643.0</td>\n",
       "      <td>70077.0</td>\n",
       "      <td>718.0</td>\n",
       "      <td>66945.0</td>\n",
       "      <td>688.0</td>\n",
       "      <td>43121.0</td>\n",
       "      <td>446.0</td>\n",
       "    </tr>\n",
       "    <tr>\n",
       "      <th>2</th>\n",
       "      <td>계</td>\n",
       "      <td>공연예술</td>\n",
       "      <td>국악</td>\n",
       "      <td>1673.0</td>\n",
       "      <td>16.0</td>\n",
       "      <td>1807.0</td>\n",
       "      <td>18.0</td>\n",
       "      <td>1516.0</td>\n",
       "      <td>15.0</td>\n",
       "      <td>2125.0</td>\n",
       "      <td>...</td>\n",
       "      <td>647.0</td>\n",
       "      <td>7.0</td>\n",
       "      <td>860.0</td>\n",
       "      <td>9.0</td>\n",
       "      <td>1127.0</td>\n",
       "      <td>12.0</td>\n",
       "      <td>800.0</td>\n",
       "      <td>8.0</td>\n",
       "      <td>268.0</td>\n",
       "      <td>3.0</td>\n",
       "    </tr>\n",
       "    <tr>\n",
       "      <th>3</th>\n",
       "      <td>계</td>\n",
       "      <td>공연예술</td>\n",
       "      <td>양악</td>\n",
       "      <td>3549.0</td>\n",
       "      <td>35.0</td>\n",
       "      <td>2984.0</td>\n",
       "      <td>29.0</td>\n",
       "      <td>3121.0</td>\n",
       "      <td>31.0</td>\n",
       "      <td>4089.0</td>\n",
       "      <td>...</td>\n",
       "      <td>3960.0</td>\n",
       "      <td>40.0</td>\n",
       "      <td>4090.0</td>\n",
       "      <td>42.0</td>\n",
       "      <td>4600.0</td>\n",
       "      <td>47.0</td>\n",
       "      <td>4234.0</td>\n",
       "      <td>44.0</td>\n",
       "      <td>2372.0</td>\n",
       "      <td>25.0</td>\n",
       "    </tr>\n",
       "    <tr>\n",
       "      <th>4</th>\n",
       "      <td>계</td>\n",
       "      <td>공연예술</td>\n",
       "      <td>연극</td>\n",
       "      <td>48606.0</td>\n",
       "      <td>474.0</td>\n",
       "      <td>34534.0</td>\n",
       "      <td>339.0</td>\n",
       "      <td>34772.0</td>\n",
       "      <td>343.0</td>\n",
       "      <td>42380.0</td>\n",
       "      <td>...</td>\n",
       "      <td>63524.0</td>\n",
       "      <td>640.0</td>\n",
       "      <td>53072.0</td>\n",
       "      <td>538.0</td>\n",
       "      <td>60205.0</td>\n",
       "      <td>617.0</td>\n",
       "      <td>58537.0</td>\n",
       "      <td>602.0</td>\n",
       "      <td>38140.0</td>\n",
       "      <td>395.0</td>\n",
       "    </tr>\n",
       "    <tr>\n",
       "      <th>5</th>\n",
       "      <td>계</td>\n",
       "      <td>공연예술</td>\n",
       "      <td>무용</td>\n",
       "      <td>1176.0</td>\n",
       "      <td>12.0</td>\n",
       "      <td>1744.0</td>\n",
       "      <td>17.0</td>\n",
       "      <td>2104.0</td>\n",
       "      <td>21.0</td>\n",
       "      <td>1304.0</td>\n",
       "      <td>...</td>\n",
       "      <td>1158.0</td>\n",
       "      <td>12.0</td>\n",
       "      <td>1332.0</td>\n",
       "      <td>14.0</td>\n",
       "      <td>1016.0</td>\n",
       "      <td>10.0</td>\n",
       "      <td>1045.0</td>\n",
       "      <td>11.0</td>\n",
       "      <td>575.0</td>\n",
       "      <td>6.0</td>\n",
       "    </tr>\n",
       "    <tr>\n",
       "      <th>6</th>\n",
       "      <td>계</td>\n",
       "      <td>공연예술</td>\n",
       "      <td>혼합</td>\n",
       "      <td>-</td>\n",
       "      <td>-</td>\n",
       "      <td>-</td>\n",
       "      <td>-</td>\n",
       "      <td>-</td>\n",
       "      <td>-</td>\n",
       "      <td>-</td>\n",
       "      <td>...</td>\n",
       "      <td>3526.0</td>\n",
       "      <td>36.0</td>\n",
       "      <td>4009.0</td>\n",
       "      <td>41.0</td>\n",
       "      <td>3129.0</td>\n",
       "      <td>32.0</td>\n",
       "      <td>2329.0</td>\n",
       "      <td>24.0</td>\n",
       "      <td>1766.0</td>\n",
       "      <td>18.0</td>\n",
       "    </tr>\n",
       "  </tbody>\n",
       "</table>\n",
       "<p>7 rows × 23 columns</p>\n",
       "</div>"
      ],
      "text/plain": [
       "   구분별(1)  구분별(2)  구분별(3)     2011      2011.1     2012      2012.1     2013  \\\n",
       "0  구분별(1)  구분별(2)  구분별(3)     공연횟수  10만명당 공연횟수     공연횟수  10만명당 공연횟수     공연횟수   \n",
       "1       계      소계      소계  55004.0       537.0  41069.0       403.0  41513.0   \n",
       "2       계    공연예술      국악   1673.0        16.0   1807.0        18.0   1516.0   \n",
       "3       계    공연예술      양악   3549.0        35.0   2984.0        29.0   3121.0   \n",
       "4       계    공연예술      연극  48606.0       474.0  34534.0       339.0  34772.0   \n",
       "5       계    공연예술      무용   1176.0        12.0   1744.0        17.0   2104.0   \n",
       "6       계    공연예술      혼합        -           -        -           -        -   \n",
       "\n",
       "       2013.1     2014  ...     2016      2016.1     2017      2017.1  \\\n",
       "0  10만명당 공연횟수     공연횟수  ...     공연횟수  10만명당 공연횟수     공연횟수  10만명당 공연횟수   \n",
       "1       409.0  49898.0  ...  72815.0       733.0  63363.0       643.0   \n",
       "2        15.0   2125.0  ...    647.0         7.0    860.0         9.0   \n",
       "3        31.0   4089.0  ...   3960.0        40.0   4090.0        42.0   \n",
       "4       343.0  42380.0  ...  63524.0       640.0  53072.0       538.0   \n",
       "5        21.0   1304.0  ...   1158.0        12.0   1332.0        14.0   \n",
       "6           -        -  ...   3526.0        36.0   4009.0        41.0   \n",
       "\n",
       "      2018      2018.1     2019      2019.1     2020      2020.1  \n",
       "0     공연횟수  10만명당 공연횟수     공연횟수  10만명당 공연횟수     공연횟수  10만명당 공연횟수  \n",
       "1  70077.0       718.0  66945.0       688.0  43121.0       446.0  \n",
       "2   1127.0        12.0    800.0         8.0    268.0         3.0  \n",
       "3   4600.0        47.0   4234.0        44.0   2372.0        25.0  \n",
       "4  60205.0       617.0  58537.0       602.0  38140.0       395.0  \n",
       "5   1016.0        10.0   1045.0        11.0    575.0         6.0  \n",
       "6   3129.0        32.0   2329.0        24.0   1766.0        18.0  \n",
       "\n",
       "[7 rows x 23 columns]"
      ]
     },
     "execution_count": 56,
     "metadata": {},
     "output_type": "execute_result"
    }
   ],
   "source": [
    "file = pd.read_excel(path + '인구+10만명당+공연횟수_2011_2020.xlsx')\n",
    "file"
   ]
  },
  {
   "cell_type": "code",
   "execution_count": 57,
   "id": "0b907775",
   "metadata": {},
   "outputs": [],
   "source": [
    "col = [col for col in file.columns if file.loc[0, col] == '10만명당 공연횟수']"
   ]
  },
  {
   "cell_type": "code",
   "execution_count": 58,
   "id": "caff9031",
   "metadata": {
    "scrolled": true
   },
   "outputs": [],
   "source": [
    "file = file.loc[:, ['구분별(3)']+col]\n",
    "# 혼합 : 2015년부터 장르간 결합된 공연 항목도 추가됨.\n",
    "file.drop(0, axis = 0, inplace=True)\n",
    "file.set_index('구분별(3)', inplace=True)\n",
    "file.columns = [col.split('.')[0] for col in file.columns]"
   ]
  },
  {
   "cell_type": "code",
   "execution_count": 59,
   "id": "f3b8f514",
   "metadata": {},
   "outputs": [],
   "source": [
    "file = file.replace({'-' : np.nan})"
   ]
  },
  {
   "cell_type": "code",
   "execution_count": 65,
   "id": "3919d91f",
   "metadata": {},
   "outputs": [
    {
     "data": {
      "image/png": "[encoded data removed]",
      "text/plain": [
       "<Figure size 720x432 with 1 Axes>"
      ]
     },
     "metadata": {},
     "output_type": "display_data"
    }
   ],
   "source": [
    "fig, ax = plt.subplots(figsize = (10, 6))\n",
    "ax.set_facecolor('white')\n",
    "\n",
    "for idx in file.index[1:]:\n",
    "    ax = sns.lineplot(x = file.columns, y = file.loc[idx, :], marker= 'o', markersize =7, label = idx)\n",
    "    if idx == '연극':\n",
    "        for i,v in enumerate(file.loc[idx, :]):\n",
    "                plt.text(i, v, str(int(v))+'회', ha = 'center')\n",
    "plt.legend()\n",
    "plt.ylabel('공연 수')\n",
    "plt.title('인구 십만명당 공연횟수', fontsize = 15)\n",
    "plt.show()"
   ]
  },
  {
   "cell_type": "markdown",
   "id": "c3067795",
   "metadata": {},
   "source": [
    "## 인구 10만명당 문화기반시설수"
   ]
  },
  {
   "cell_type": "code",
   "execution_count": 66,
   "id": "d46198df",
   "metadata": {},
   "outputs": [
    {
     "name": "stderr",
     "output_type": "stream",
     "text": [
      "C:\\Users\\user\\anaconda3\\lib\\site-packages\\openpyxl\\styles\\stylesheet.py:226: UserWarning: Workbook contains no default style, apply openpyxl's default\n",
      "  warn(\"Workbook contains no default style, apply openpyxl's default\")\n"
     ]
    }
   ],
   "source": [
    "file = pd.read_excel(path + '인구_십만명당_문화기반시설수_시도_시_군_구__2011_2020.xlsx')"
   ]
  },
  {
   "cell_type": "code",
   "execution_count": 67,
   "id": "b5520574",
   "metadata": {},
   "outputs": [],
   "source": [
    "file = file[file['행정구역별'] == '서울특별시']\n",
    "file = file.astype({'시점' : str})"
   ]
  },
  {
   "cell_type": "code",
   "execution_count": 69,
   "id": "0638557c",
   "metadata": {},
   "outputs": [
    {
     "data": {
      "text/plain": [
       "Text(0.5, 1.0, '인구 10만명당 문화기반시설수')"
      ]
     },
     "execution_count": 69,
     "metadata": {},
     "output_type": "execute_result"
    },
    {
     "data": {
      "image/png": "[encoded data removed]",
      "text/plain": [
       "<Figure size 720x432 with 1 Axes>"
      ]
     },
     "metadata": {},
     "output_type": "display_data"
    }
   ],
   "source": [
    "fig, ax = plt.subplots(figsize = (10,6))\n",
    "ax.set_facecolor('white')\n",
    "\n",
    "# ax = plt.plot(file['시점'], file['인구십만명당 문화기반시설수<br>(A÷B×100,000) (개)'])\n",
    "ax = sns.lineplot(x='시점', y = '인구십만명당 문화기반시설수<br>(A÷B×100,000) (개)', data=file,\n",
    "                 marker= 'o', markersize = 7)\n",
    "for i, v in enumerate(file['인구십만명당 문화기반시설수<br>(A÷B×100,000) (개)']):\n",
    "    plt.text(i, v+0.05, v, ha='center')\n",
    "    \n",
    "# ax.set_ylim(0, 5)\n",
    "ax.set_ylabel('인구 10만명당 문화기반시설수')\n",
    "\n",
    "plt.title('인구 10만명당 문화기반시설수', fontsize= 15)"
   ]
  },
  {
   "cell_type": "markdown",
   "id": "63fc6b1d",
   "metadata": {},
   "source": [
    "## 지정문화재 등록"
   ]
  },
  {
   "cell_type": "code",
   "execution_count": 70,
   "id": "e98b80e0",
   "metadata": {},
   "outputs": [
    {
     "name": "stderr",
     "output_type": "stream",
     "text": [
      "C:\\Users\\user\\anaconda3\\lib\\site-packages\\openpyxl\\styles\\stylesheet.py:226: UserWarning: Workbook contains no default style, apply openpyxl's default\n",
      "  warn(\"Workbook contains no default style, apply openpyxl's default\")\n"
     ]
    }
   ],
   "source": [
    "file = pd.read_excel(path + '지정등록문화재현황_시도__2011_2021.xlsx')"
   ]
  },
  {
   "cell_type": "code",
   "execution_count": 71,
   "id": "0a5e80cc",
   "metadata": {},
   "outputs": [],
   "source": [
    "_df = file[file['행정구역별(1)'] == '서울특별시']\n",
    "_df = _df.astype({'시점' : str})"
   ]
  },
  {
   "cell_type": "code",
   "execution_count": 72,
   "id": "5eaf9560",
   "metadata": {},
   "outputs": [
    {
     "data": {
      "text/html": [
       "<div>\n",
       "<style scoped>\n",
       "    .dataframe tbody tr th:only-of-type {\n",
       "        vertical-align: middle;\n",
       "    }\n",
       "\n",
       "    .dataframe tbody tr th {\n",
       "        vertical-align: top;\n",
       "    }\n",
       "\n",
       "    .dataframe thead th {\n",
       "        text-align: right;\n",
       "    }\n",
       "</style>\n",
       "<table border=\"1\" class=\"dataframe\">\n",
       "  <thead>\n",
       "    <tr style=\"text-align: right;\">\n",
       "      <th></th>\n",
       "      <th>행정구역별(1)</th>\n",
       "      <th>시점</th>\n",
       "      <th>지정등록문화재&lt;br&gt;(A+B)</th>\n",
       "      <th>지정문화재&lt;br&gt;(A)</th>\n",
       "      <th>국가등록문화재&lt;br&gt;(B)</th>\n",
       "    </tr>\n",
       "  </thead>\n",
       "  <tbody>\n",
       "    <tr>\n",
       "      <th>11</th>\n",
       "      <td>서울특별시</td>\n",
       "      <td>2011</td>\n",
       "      <td>1414.0</td>\n",
       "      <td>1308.0</td>\n",
       "      <td>106.0</td>\n",
       "    </tr>\n",
       "    <tr>\n",
       "      <th>12</th>\n",
       "      <td>서울특별시</td>\n",
       "      <td>2012</td>\n",
       "      <td>1484.0</td>\n",
       "      <td>1340.0</td>\n",
       "      <td>144.0</td>\n",
       "    </tr>\n",
       "    <tr>\n",
       "      <th>13</th>\n",
       "      <td>서울특별시</td>\n",
       "      <td>2013</td>\n",
       "      <td>1521.0</td>\n",
       "      <td>1355.0</td>\n",
       "      <td>166.0</td>\n",
       "    </tr>\n",
       "    <tr>\n",
       "      <th>14</th>\n",
       "      <td>서울특별시</td>\n",
       "      <td>2014</td>\n",
       "      <td>1582.0</td>\n",
       "      <td>1408.0</td>\n",
       "      <td>174.0</td>\n",
       "    </tr>\n",
       "    <tr>\n",
       "      <th>15</th>\n",
       "      <td>서울특별시</td>\n",
       "      <td>2015</td>\n",
       "      <td>1589.0</td>\n",
       "      <td>1412.0</td>\n",
       "      <td>177.0</td>\n",
       "    </tr>\n",
       "    <tr>\n",
       "      <th>16</th>\n",
       "      <td>서울특별시</td>\n",
       "      <td>2016</td>\n",
       "      <td>1712.0</td>\n",
       "      <td>1527.0</td>\n",
       "      <td>185.0</td>\n",
       "    </tr>\n",
       "    <tr>\n",
       "      <th>17</th>\n",
       "      <td>서울특별시</td>\n",
       "      <td>2017</td>\n",
       "      <td>1763.0</td>\n",
       "      <td>1565.0</td>\n",
       "      <td>198.0</td>\n",
       "    </tr>\n",
       "    <tr>\n",
       "      <th>18</th>\n",
       "      <td>서울특별시</td>\n",
       "      <td>2018</td>\n",
       "      <td>1808.0</td>\n",
       "      <td>1605.0</td>\n",
       "      <td>203.0</td>\n",
       "    </tr>\n",
       "    <tr>\n",
       "      <th>19</th>\n",
       "      <td>서울특별시</td>\n",
       "      <td>2019</td>\n",
       "      <td>1852.0</td>\n",
       "      <td>1640.0</td>\n",
       "      <td>212.0</td>\n",
       "    </tr>\n",
       "    <tr>\n",
       "      <th>20</th>\n",
       "      <td>서울특별시</td>\n",
       "      <td>2020</td>\n",
       "      <td>1906.0</td>\n",
       "      <td>1677.0</td>\n",
       "      <td>229.0</td>\n",
       "    </tr>\n",
       "    <tr>\n",
       "      <th>21</th>\n",
       "      <td>서울특별시</td>\n",
       "      <td>2021</td>\n",
       "      <td>1959.0</td>\n",
       "      <td>1724.0</td>\n",
       "      <td>235.0</td>\n",
       "    </tr>\n",
       "  </tbody>\n",
       "</table>\n",
       "</div>"
      ],
      "text/plain": [
       "   행정구역별(1)    시점  지정등록문화재<br>(A+B)  지정문화재<br>(A)  국가등록문화재<br>(B)\n",
       "11    서울특별시  2011            1414.0        1308.0           106.0\n",
       "12    서울특별시  2012            1484.0        1340.0           144.0\n",
       "13    서울특별시  2013            1521.0        1355.0           166.0\n",
       "14    서울특별시  2014            1582.0        1408.0           174.0\n",
       "15    서울특별시  2015            1589.0        1412.0           177.0\n",
       "16    서울특별시  2016            1712.0        1527.0           185.0\n",
       "17    서울특별시  2017            1763.0        1565.0           198.0\n",
       "18    서울특별시  2018            1808.0        1605.0           203.0\n",
       "19    서울특별시  2019            1852.0        1640.0           212.0\n",
       "20    서울특별시  2020            1906.0        1677.0           229.0\n",
       "21    서울특별시  2021            1959.0        1724.0           235.0"
      ]
     },
     "execution_count": 72,
     "metadata": {},
     "output_type": "execute_result"
    }
   ],
   "source": [
    "_df"
   ]
  },
  {
   "cell_type": "code",
   "execution_count": 74,
   "id": "d8856d42",
   "metadata": {},
   "outputs": [
    {
     "data": {
      "text/plain": [
       "Text(0.5, 1.0, '지정문화재 등록')"
      ]
     },
     "execution_count": 74,
     "metadata": {},
     "output_type": "execute_result"
    },
    {
     "data": {
      "image/png": "[encoded data removed]",
      "text/plain": [
       "<Figure size 720x432 with 1 Axes>"
      ]
     },
     "metadata": {},
     "output_type": "display_data"
    }
   ],
   "source": [
    "fig, ax = plt.subplots(figsize = (10,6))\n",
    "ax.set_facecolor('white')\n",
    "\n",
    "for col in _df.columns[3:]:\n",
    "    ax = sns.lineplot(x = '시점', y = col, data = _df, label = col[:-7], \n",
    "                      marker = 'o', markersize = 7)\n",
    "    for i, v in enumerate(_df[col]):\n",
    "        plt.text(i, v+50, format(int(v), ','), ha='center')\n",
    "\n",
    "plt.title('지정문화재 등록')"
   ]
  },
  {
   "cell_type": "markdown",
   "id": "24747c71",
   "metadata": {},
   "source": [
    "## 한강공원"
   ]
  },
  {
   "cell_type": "code",
   "execution_count": 76,
   "id": "935123c6",
   "metadata": {},
   "outputs": [
    {
     "name": "stderr",
     "output_type": "stream",
     "text": [
      "C:\\Users\\user\\anaconda3\\lib\\site-packages\\openpyxl\\styles\\stylesheet.py:226: UserWarning: Workbook contains no default style, apply openpyxl's default\n",
      "  warn(\"Workbook contains no default style, apply openpyxl's default\")\n"
     ]
    }
   ],
   "source": [
    "file = pd.read_excel(path + '한강공원+이용객+현황_2013_2021.xlsx')"
   ]
  },
  {
   "cell_type": "code",
   "execution_count": 77,
   "id": "a474c349",
   "metadata": {},
   "outputs": [],
   "source": [
    "file\n",
    "col_total = [col for col in file.columns if file.loc[1, col] == '소계']\n",
    "total = file.loc[:, ['구분별(2)'] + col_total]\n",
    "total.drop([0,1,2], axis = 0 , inplace =True)"
   ]
  },
  {
   "cell_type": "code",
   "execution_count": 78,
   "id": "cf5301ef",
   "metadata": {},
   "outputs": [
    {
     "data": {
      "text/html": [
       "<div>\n",
       "<style scoped>\n",
       "    .dataframe tbody tr th:only-of-type {\n",
       "        vertical-align: middle;\n",
       "    }\n",
       "\n",
       "    .dataframe tbody tr th {\n",
       "        vertical-align: top;\n",
       "    }\n",
       "\n",
       "    .dataframe thead th {\n",
       "        text-align: right;\n",
       "    }\n",
       "</style>\n",
       "<table border=\"1\" class=\"dataframe\">\n",
       "  <thead>\n",
       "    <tr style=\"text-align: right;\">\n",
       "      <th></th>\n",
       "      <th>2013</th>\n",
       "      <th>2014</th>\n",
       "      <th>2015</th>\n",
       "      <th>2016</th>\n",
       "      <th>2017</th>\n",
       "      <th>2018</th>\n",
       "      <th>2019</th>\n",
       "      <th>2020</th>\n",
       "      <th>2021</th>\n",
       "    </tr>\n",
       "    <tr>\n",
       "      <th>구분별(2)</th>\n",
       "      <th></th>\n",
       "      <th></th>\n",
       "      <th></th>\n",
       "      <th></th>\n",
       "      <th></th>\n",
       "      <th></th>\n",
       "      <th></th>\n",
       "      <th></th>\n",
       "      <th></th>\n",
       "    </tr>\n",
       "  </thead>\n",
       "  <tbody>\n",
       "    <tr>\n",
       "      <th>광나루</th>\n",
       "      <td>1551218.0</td>\n",
       "      <td>2723391.0</td>\n",
       "      <td>3384383.0</td>\n",
       "      <td>4331116.0</td>\n",
       "      <td>4850790.0</td>\n",
       "      <td>4089311.0</td>\n",
       "      <td>3174257.0</td>\n",
       "      <td>3384139.0</td>\n",
       "      <td>2989179.0</td>\n",
       "    </tr>\n",
       "    <tr>\n",
       "      <th>잠실</th>\n",
       "      <td>2773008.0</td>\n",
       "      <td>2647951.0</td>\n",
       "      <td>1856180.0</td>\n",
       "      <td>4342355.0</td>\n",
       "      <td>4290921.0</td>\n",
       "      <td>4057383.0</td>\n",
       "      <td>4171716.0</td>\n",
       "      <td>3798503.0</td>\n",
       "      <td>4766845.0</td>\n",
       "    </tr>\n",
       "    <tr>\n",
       "      <th>뚝섬</th>\n",
       "      <td>14940372.0</td>\n",
       "      <td>15068029.0</td>\n",
       "      <td>15154710.0</td>\n",
       "      <td>16311954.0</td>\n",
       "      <td>17672565.0</td>\n",
       "      <td>17288178.0</td>\n",
       "      <td>19735000.0</td>\n",
       "      <td>17472395.0</td>\n",
       "      <td>15121427.0</td>\n",
       "    </tr>\n",
       "    <tr>\n",
       "      <th>잠원</th>\n",
       "      <td>2299449.0</td>\n",
       "      <td>2096434.0</td>\n",
       "      <td>2927950.0</td>\n",
       "      <td>3799262.0</td>\n",
       "      <td>2968716.0</td>\n",
       "      <td>2173085.0</td>\n",
       "      <td>1601652.0</td>\n",
       "      <td>2381828.0</td>\n",
       "      <td>4957543.0</td>\n",
       "    </tr>\n",
       "    <tr>\n",
       "      <th>반포</th>\n",
       "      <td>2232612.0</td>\n",
       "      <td>3560263.0</td>\n",
       "      <td>5366944.0</td>\n",
       "      <td>6450021.0</td>\n",
       "      <td>5802879.0</td>\n",
       "      <td>7153087.0</td>\n",
       "      <td>7131604.0</td>\n",
       "      <td>4776082.0</td>\n",
       "      <td>3578586.0</td>\n",
       "    </tr>\n",
       "    <tr>\n",
       "      <th>이촌</th>\n",
       "      <td>3433783.0</td>\n",
       "      <td>4386275.0</td>\n",
       "      <td>5432314.0</td>\n",
       "      <td>4062442.0</td>\n",
       "      <td>4042584.0</td>\n",
       "      <td>3269790.0</td>\n",
       "      <td>2938996.0</td>\n",
       "      <td>2291528.0</td>\n",
       "      <td>1981496.0</td>\n",
       "    </tr>\n",
       "    <tr>\n",
       "      <th>여의도</th>\n",
       "      <td>29638880.0</td>\n",
       "      <td>19051193.0</td>\n",
       "      <td>18261128.0</td>\n",
       "      <td>19254678.0</td>\n",
       "      <td>25377818.0</td>\n",
       "      <td>22183377.0</td>\n",
       "      <td>21492606.0</td>\n",
       "      <td>9518870.0</td>\n",
       "      <td>11404192.0</td>\n",
       "    </tr>\n",
       "    <tr>\n",
       "      <th>양화</th>\n",
       "      <td>2458279.0</td>\n",
       "      <td>3851242.0</td>\n",
       "      <td>4228237.0</td>\n",
       "      <td>3614094.0</td>\n",
       "      <td>2966811.0</td>\n",
       "      <td>1770285.0</td>\n",
       "      <td>2172798.0</td>\n",
       "      <td>3647283.0</td>\n",
       "      <td>3826586.0</td>\n",
       "    </tr>\n",
       "    <tr>\n",
       "      <th>망원</th>\n",
       "      <td>2521539.0</td>\n",
       "      <td>3240711.0</td>\n",
       "      <td>3366382.0</td>\n",
       "      <td>3412076.0</td>\n",
       "      <td>2960460.0</td>\n",
       "      <td>3118557.0</td>\n",
       "      <td>2530934.0</td>\n",
       "      <td>2384556.0</td>\n",
       "      <td>2665604.0</td>\n",
       "    </tr>\n",
       "    <tr>\n",
       "      <th>난지</th>\n",
       "      <td>5222519.0</td>\n",
       "      <td>5355068.0</td>\n",
       "      <td>5919843.0</td>\n",
       "      <td>6407214.0</td>\n",
       "      <td>5019412.0</td>\n",
       "      <td>3957192.0</td>\n",
       "      <td>3055115.0</td>\n",
       "      <td>2941988.0</td>\n",
       "      <td>2581941.0</td>\n",
       "    </tr>\n",
       "    <tr>\n",
       "      <th>강서</th>\n",
       "      <td>1548880.0</td>\n",
       "      <td>2504542.0</td>\n",
       "      <td>2693274.0</td>\n",
       "      <td>3100132.0</td>\n",
       "      <td>2467415.0</td>\n",
       "      <td>2546297.0</td>\n",
       "      <td>2531002.0</td>\n",
       "      <td>3731131.0</td>\n",
       "      <td>3756296.0</td>\n",
       "    </tr>\n",
       "  </tbody>\n",
       "</table>\n",
       "</div>"
      ],
      "text/plain": [
       "              2013        2014        2015        2016        2017  \\\n",
       "구분별(2)                                                               \n",
       "광나루      1551218.0   2723391.0   3384383.0   4331116.0   4850790.0   \n",
       "잠실       2773008.0   2647951.0   1856180.0   4342355.0   4290921.0   \n",
       "뚝섬      14940372.0  15068029.0  15154710.0  16311954.0  17672565.0   \n",
       "잠원       2299449.0   2096434.0   2927950.0   3799262.0   2968716.0   \n",
       "반포       2232612.0   3560263.0   5366944.0   6450021.0   5802879.0   \n",
       "이촌       3433783.0   4386275.0   5432314.0   4062442.0   4042584.0   \n",
       "여의도     29638880.0  19051193.0  18261128.0  19254678.0  25377818.0   \n",
       "양화       2458279.0   3851242.0   4228237.0   3614094.0   2966811.0   \n",
       "망원       2521539.0   3240711.0   3366382.0   3412076.0   2960460.0   \n",
       "난지       5222519.0   5355068.0   5919843.0   6407214.0   5019412.0   \n",
       "강서       1548880.0   2504542.0   2693274.0   3100132.0   2467415.0   \n",
       "\n",
       "              2018        2019        2020        2021  \n",
       "구분별(2)                                                  \n",
       "광나루      4089311.0   3174257.0   3384139.0   2989179.0  \n",
       "잠실       4057383.0   4171716.0   3798503.0   4766845.0  \n",
       "뚝섬      17288178.0  19735000.0  17472395.0  15121427.0  \n",
       "잠원       2173085.0   1601652.0   2381828.0   4957543.0  \n",
       "반포       7153087.0   7131604.0   4776082.0   3578586.0  \n",
       "이촌       3269790.0   2938996.0   2291528.0   1981496.0  \n",
       "여의도     22183377.0  21492606.0   9518870.0  11404192.0  \n",
       "양화       1770285.0   2172798.0   3647283.0   3826586.0  \n",
       "망원       3118557.0   2530934.0   2384556.0   2665604.0  \n",
       "난지       3957192.0   3055115.0   2941988.0   2581941.0  \n",
       "강서       2546297.0   2531002.0   3731131.0   3756296.0  "
      ]
     },
     "execution_count": 78,
     "metadata": {},
     "output_type": "execute_result"
    }
   ],
   "source": [
    "total.set_index('구분별(2)', inplace=True)\n",
    "total"
   ]
  },
  {
   "cell_type": "code",
   "execution_count": 89,
   "id": "79124f2f",
   "metadata": {},
   "outputs": [
    {
     "name": "stderr",
     "output_type": "stream",
     "text": [
      "C:\\Users\\user\\AppData\\Local\\Temp\\ipykernel_13316\\1966307503.py:16: UserWarning: FixedFormatter should only be used together with FixedLocator\n",
      "  ax.set_yticklabels([format(int(val), ',') for val in w])\n"
     ]
    },
    {
     "data": {
      "image/png": "[encoded data removed]",
      "text/plain": [
       "<Figure size 720x432 with 1 Axes>"
      ]
     },
     "metadata": {},
     "output_type": "display_data"
    }
   ],
   "source": [
    "total\n",
    "# 한강 위치별 이용객합계\n",
    "\n",
    "fig, ax = plt.subplots(figsize = (10, 6))\n",
    "\n",
    "ax.set_facecolor('white')\n",
    "for place in total.index:\n",
    "    if place in ['여의도', '뚝섬']:\n",
    "        ax = sns.lineplot(x = total.columns[:], y = total.loc[place, :], label = place, linewidth = 3)\n",
    "        for i, v in enumerate(total.loc[place, :]):\n",
    "            plt.text(i, v, format(int(v), ','), ha='center', fontsize = 10)\n",
    "    else:\n",
    "        ax = sns.lineplot(x = total.columns[:], y = total.loc[place, :], label = place)\n",
    "\n",
    "w = ax.get_yticks()\n",
    "ax.set_yticklabels([format(int(val), ',') for val in w])\n",
    "\n",
    "plt.legend(fontsize = 9)\n",
    "plt.ylabel('이용객 수 (명)')\n",
    "plt.title('한강 공원별 이용객 수', fontsize =15)\n",
    "plt.show()"
   ]
  },
  {
   "cell_type": "code",
   "execution_count": null,
   "id": "13f9030f",
   "metadata": {},
   "outputs": [],
   "source": []
  }
 ],
 "metadata": {
  "kernelspec": {
   "display_name": "Python 3 (ipykernel)",
   "language": "python",
   "name": "python3"
  },
  "language_info": {
   "codemirror_mode": {
    "name": "ipython",
    "version": 3
   },
   "file_extension": ".py",
   "mimetype": "text/x-python",
   "name": "python",
   "nbconvert_exporter": "python",
   "pygments_lexer": "ipython3",
   "version": "3.9.12"
  },
  "toc": {
   "base_numbering": 1,
   "nav_menu": {},
   "number_sections": true,
   "sideBar": true,
   "skip_h1_title": false,
   "title_cell": "Table of Contents",
   "title_sidebar": "Contents",
   "toc_cell": false,
   "toc_position": {},
   "toc_section_display": true,
   "toc_window_display": false
  }
 },
 "nbformat": 4,
 "nbformat_minor": 5
}
